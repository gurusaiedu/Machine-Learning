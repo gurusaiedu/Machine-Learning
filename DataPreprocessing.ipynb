{
  "nbformat": 4,
  "nbformat_minor": 0,
  "metadata": {
    "colab": {
      "provenance": [],
      "authorship_tag": "ABX9TyMUInkSxOBxAARSx+76baCy",
      "include_colab_link": true
    },
    "kernelspec": {
      "name": "python3",
      "display_name": "Python 3"
    },
    "language_info": {
      "name": "python"
    }
  },
  "cells": [
    {
      "cell_type": "markdown",
      "metadata": {
        "id": "view-in-github",
        "colab_type": "text"
      },
      "source": [
        "<a href=\"https://colab.research.google.com/github/gurusaiedu/Machine-Learning/blob/main/DataPreprocessing.ipynb\" target=\"_parent\"><img src=\"https://colab.research.google.com/assets/colab-badge.svg\" alt=\"Open In Colab\"/></a>"
      ]
    },
    {
      "cell_type": "code",
      "execution_count": 1,
      "metadata": {
        "colab": {
          "base_uri": "https://localhost:8080/"
        },
        "id": "NUhUHHxyoPCw",
        "outputId": "51598d00-49a7-4e7a-cc28-666a9f6e877f"
      },
      "outputs": [
        {
          "output_type": "stream",
          "name": "stdout",
          "text": [
            "Requirement already satisfied: nltk in /usr/local/lib/python3.10/dist-packages (3.8.1)\n",
            "Requirement already satisfied: click in /usr/local/lib/python3.10/dist-packages (from nltk) (8.1.7)\n",
            "Requirement already satisfied: joblib in /usr/local/lib/python3.10/dist-packages (from nltk) (1.3.2)\n",
            "Requirement already satisfied: regex>=2021.8.3 in /usr/local/lib/python3.10/dist-packages (from nltk) (2023.12.25)\n",
            "Requirement already satisfied: tqdm in /usr/local/lib/python3.10/dist-packages (from nltk) (4.66.2)\n"
          ]
        }
      ],
      "source": [
        "!pip install nltk"
      ]
    },
    {
      "cell_type": "code",
      "source": [
        "paragraph=\"\"\"\n",
        "The Constitution of India is the supreme law of India.[2][3] The document lays down the framework that demarcates fundamental political code, structure, procedures, powers, and duties of government institutions and sets out fundamental rights, directive principles, and the duties of citizens, based on the proposal suggested by M. N. Roy. It is the longest written national constitution in the world.[4][5][6]\n",
        "\n",
        "It imparts constitutional supremacy (not parliamentary supremacy, since it was created by a constituent assembly rather than Parliament) and was adopted by its people with a declaration in its preamble. Parliament cannot override the constitution.[7]\n",
        "\n",
        "\n",
        "B. R. Ambedkar and Constitution of India on a 2015 postage stamp of India\n",
        "It was adopted by the Constituent Assembly of India on 26 November 1949 and became effective on 26 January 1950.[8] The constitution replaced the Government of India Act 1935 as the country's fundamental governing document, and the Dominion of India became the Republic of India. To ensure constitutional autochthony, its framers repealed prior acts of the British parliament in Article 395.[9] India celebrates its constitution on 26 January as Republic Day.[10]\n",
        "\n",
        "The constitution declares India a sovereign, socialist, secular,[11] and democratic republic, assures its citizens justice, equality, and liberty, and endeavours to promote fraternity.[12] The original 1950 constitution is preserved in a nitrogen-filled case at the Parliament House in New Delhi.[13]\n",
        "\"\"\""
      ],
      "metadata": {
        "id": "xBF91ek0oXIC"
      },
      "execution_count": 2,
      "outputs": []
    },
    {
      "cell_type": "code",
      "source": [
        "import nltk\n",
        "from nltk.stem import PorterStemmer\n",
        "from nltk.corpus import stopwords"
      ],
      "metadata": {
        "id": "-wxL2UBEovlS"
      },
      "execution_count": 3,
      "outputs": []
    },
    {
      "cell_type": "code",
      "source": [
        "nltk.download('punkt')\n",
        "sentances=nltk.sent_tokenize(paragraph)"
      ],
      "metadata": {
        "colab": {
          "base_uri": "https://localhost:8080/"
        },
        "id": "V7kP6hy-pImD",
        "outputId": "d38a23b2-8064-49a8-ebe5-c1ff05f6ef17"
      },
      "execution_count": 4,
      "outputs": [
        {
          "output_type": "stream",
          "name": "stderr",
          "text": [
            "[nltk_data] Downloading package punkt to /root/nltk_data...\n",
            "[nltk_data]   Unzipping tokenizers/punkt.zip.\n"
          ]
        }
      ]
    },
    {
      "cell_type": "code",
      "source": [
        "sentances"
      ],
      "metadata": {
        "colab": {
          "base_uri": "https://localhost:8080/"
        },
        "id": "UdTJ8Kg6pXBO",
        "outputId": "9f3b892f-ae26-41be-8479-c9b9094e79bc"
      },
      "execution_count": 5,
      "outputs": [
        {
          "output_type": "execute_result",
          "data": {
            "text/plain": [
              "['\\nThe Constitution of India is the supreme law of India.',\n",
              " '[2][3] The document lays down the framework that demarcates fundamental political code, structure, procedures, powers, and duties of government institutions and sets out fundamental rights, directive principles, and the duties of citizens, based on the proposal suggested by M. N. Roy.',\n",
              " 'It is the longest written national constitution in the world.',\n",
              " '[4][5][6]\\n\\nIt imparts constitutional supremacy (not parliamentary supremacy, since it was created by a constituent assembly rather than Parliament) and was adopted by its people with a declaration in its preamble.',\n",
              " 'Parliament cannot override the constitution.',\n",
              " '[7]\\n\\n\\nB. R. Ambedkar and Constitution of India on a 2015 postage stamp of India\\nIt was adopted by the Constituent Assembly of India on 26 November 1949 and became effective on 26 January 1950.',\n",
              " \"[8] The constitution replaced the Government of India Act 1935 as the country's fundamental governing document, and the Dominion of India became the Republic of India.\",\n",
              " 'To ensure constitutional autochthony, its framers repealed prior acts of the British parliament in Article 395.',\n",
              " '[9] India celebrates its constitution on 26 January as Republic Day.',\n",
              " '[10]\\n\\nThe constitution declares India a sovereign, socialist, secular,[11] and democratic republic, assures its citizens justice, equality, and liberty, and endeavours to promote fraternity.',\n",
              " '[12] The original 1950 constitution is preserved in a nitrogen-filled case at the Parliament House in New Delhi.',\n",
              " '[13]']"
            ]
          },
          "metadata": {},
          "execution_count": 5
        }
      ]
    },
    {
      "cell_type": "markdown",
      "source": [
        "**cleaning the text**"
      ],
      "metadata": {
        "id": "IrhqYl9FsOBr"
      }
    },
    {
      "cell_type": "code",
      "source": [
        "#cleaning the text\n",
        "\n",
        "import re\n",
        "\n",
        "corpus=[]\n",
        "for i in range(len(sentances)):\n",
        "  review=re.sub('[^a-zA-Z]',' ',sentances[i])\n",
        "  review=review.lower()\n",
        "  corpus.append(review)"
      ],
      "metadata": {
        "id": "UYdNlRMzsENY"
      },
      "execution_count": 22,
      "outputs": []
    },
    {
      "cell_type": "code",
      "source": [
        "corpus"
      ],
      "metadata": {
        "colab": {
          "base_uri": "https://localhost:8080/"
        },
        "id": "ZXwSwrf-sGCZ",
        "outputId": "562dcd58-62d5-4c32-de06-43b43b600df6"
      },
      "execution_count": 23,
      "outputs": [
        {
          "output_type": "execute_result",
          "data": {
            "text/plain": [
              "[' the constitution of india is the supreme law of india ',\n",
              " '       the document lays down the framework that demarcates fundamental political code  structure  procedures  powers  and duties of government institutions and sets out fundamental rights  directive principles  and the duties of citizens  based on the proposal suggested by m  n  roy ',\n",
              " 'it is the longest written national constitution in the world ',\n",
              " '           it imparts constitutional supremacy  not parliamentary supremacy  since it was created by a constituent assembly rather than parliament  and was adopted by its people with a declaration in its preamble ',\n",
              " 'parliament cannot override the constitution ',\n",
              " '      b  r  ambedkar and constitution of india on a      postage stamp of india it was adopted by the constituent assembly of india on    november      and became effective on    january      ',\n",
              " '    the constitution replaced the government of india act      as the country s fundamental governing document  and the dominion of india became the republic of india ',\n",
              " 'to ensure constitutional autochthony  its framers repealed prior acts of the british parliament in article     ',\n",
              " '    india celebrates its constitution on    january as republic day ',\n",
              " '      the constitution declares india a sovereign  socialist  secular      and democratic republic  assures its citizens justice  equality  and liberty  and endeavours to promote fraternity ',\n",
              " '     the original      constitution is preserved in a nitrogen filled case at the parliament house in new delhi ',\n",
              " '    ']"
            ]
          },
          "metadata": {},
          "execution_count": 23
        }
      ]
    },
    {
      "cell_type": "markdown",
      "source": [
        "**Stemming**"
      ],
      "metadata": {
        "id": "QeKVjVnAsJwA"
      }
    },
    {
      "cell_type": "code",
      "source": [
        "stemmer=PorterStemmer()"
      ],
      "metadata": {
        "id": "_uGbdKJ6pZRS"
      },
      "execution_count": 6,
      "outputs": []
    },
    {
      "cell_type": "code",
      "source": [
        "stemmer.stem(\"going\")"
      ],
      "metadata": {
        "colab": {
          "base_uri": "https://localhost:8080/",
          "height": 35
        },
        "id": "UD-9MlLbphgy",
        "outputId": "88d686f0-318b-46f1-be5b-becea113d0ad"
      },
      "execution_count": 8,
      "outputs": [
        {
          "output_type": "execute_result",
          "data": {
            "text/plain": [
              "'go'"
            ],
            "application/vnd.google.colaboratory.intrinsic+json": {
              "type": "string"
            }
          },
          "metadata": {},
          "execution_count": 8
        }
      ]
    },
    {
      "cell_type": "code",
      "source": [
        "stemmer.stem(\"history\")"
      ],
      "metadata": {
        "colab": {
          "base_uri": "https://localhost:8080/",
          "height": 35
        },
        "id": "xl3sdNllpm9W",
        "outputId": "e8b62cbf-da00-4304-caef-144ab249d147"
      },
      "execution_count": 9,
      "outputs": [
        {
          "output_type": "execute_result",
          "data": {
            "text/plain": [
              "'histori'"
            ],
            "application/vnd.google.colaboratory.intrinsic+json": {
              "type": "string"
            }
          },
          "metadata": {},
          "execution_count": 9
        }
      ]
    },
    {
      "cell_type": "code",
      "source": [
        "stemmer.stem(\"goes\")"
      ],
      "metadata": {
        "colab": {
          "base_uri": "https://localhost:8080/",
          "height": 35
        },
        "id": "skfLO7PZqrvJ",
        "outputId": "2b334952-f7de-4081-ed27-6f7527c73aeb"
      },
      "execution_count": 19,
      "outputs": [
        {
          "output_type": "execute_result",
          "data": {
            "text/plain": [
              "'goe'"
            ],
            "application/vnd.google.colaboratory.intrinsic+json": {
              "type": "string"
            }
          },
          "metadata": {},
          "execution_count": 19
        }
      ]
    },
    {
      "cell_type": "markdown",
      "source": [
        "in stemming not \"meaning \" but if we use WordNetLemmatizer it founds meaning also\n",
        "\n",
        "\n"
      ],
      "metadata": {
        "id": "CJjHlfg4qvEx"
      }
    },
    {
      "cell_type": "code",
      "source": [
        "import nltk\n",
        "nltk.download('wordnet')"
      ],
      "metadata": {
        "colab": {
          "base_uri": "https://localhost:8080/"
        },
        "id": "4Zz9ToETqeQ7",
        "outputId": "2d6e0efb-6c5a-4aca-ee55-ce25fdfb6367"
      },
      "execution_count": 14,
      "outputs": [
        {
          "output_type": "stream",
          "name": "stderr",
          "text": [
            "[nltk_data] Downloading package wordnet to /root/nltk_data...\n"
          ]
        },
        {
          "output_type": "execute_result",
          "data": {
            "text/plain": [
              "True"
            ]
          },
          "metadata": {},
          "execution_count": 14
        }
      ]
    },
    {
      "cell_type": "code",
      "source": [
        "from nltk.stem import WordNetLemmatizer\n",
        "lemmatizer=WordNetLemmatizer()"
      ],
      "metadata": {
        "id": "VZLHIoSDp8iS"
      },
      "execution_count": 15,
      "outputs": []
    },
    {
      "cell_type": "code",
      "source": [],
      "metadata": {
        "id": "MZzF5KMtqddk"
      },
      "execution_count": 15,
      "outputs": []
    },
    {
      "cell_type": "code",
      "source": [
        "lemmatizer.lemmatize('going')"
      ],
      "metadata": {
        "colab": {
          "base_uri": "https://localhost:8080/",
          "height": 35
        },
        "id": "u15Yurt7qJti",
        "outputId": "d8a49987-153a-437a-cb6f-a4bf6dabef7c"
      },
      "execution_count": 16,
      "outputs": [
        {
          "output_type": "execute_result",
          "data": {
            "text/plain": [
              "'going'"
            ],
            "application/vnd.google.colaboratory.intrinsic+json": {
              "type": "string"
            }
          },
          "metadata": {},
          "execution_count": 16
        }
      ]
    },
    {
      "cell_type": "code",
      "source": [
        "lemmatizer.lemmatize('history')"
      ],
      "metadata": {
        "colab": {
          "base_uri": "https://localhost:8080/",
          "height": 35
        },
        "id": "h4czeLBvqN8S",
        "outputId": "183f8cdc-3050-4407-e558-7e33334f23a2"
      },
      "execution_count": 17,
      "outputs": [
        {
          "output_type": "execute_result",
          "data": {
            "text/plain": [
              "'history'"
            ],
            "application/vnd.google.colaboratory.intrinsic+json": {
              "type": "string"
            }
          },
          "metadata": {},
          "execution_count": 17
        }
      ]
    },
    {
      "cell_type": "code",
      "source": [
        "lemmatizer.lemmatize('goes')"
      ],
      "metadata": {
        "colab": {
          "base_uri": "https://localhost:8080/",
          "height": 35
        },
        "id": "ojEKtZOJqmaq",
        "outputId": "976528e9-fd0d-4187-d0a5-21a2873e1bf4"
      },
      "execution_count": 18,
      "outputs": [
        {
          "output_type": "execute_result",
          "data": {
            "text/plain": [
              "'go'"
            ],
            "application/vnd.google.colaboratory.intrinsic+json": {
              "type": "string"
            }
          },
          "metadata": {},
          "execution_count": 18
        }
      ]
    },
    {
      "cell_type": "code",
      "source": [
        "nltk.download('stopwords')\n",
        "stopwords.words('english')"
      ],
      "metadata": {
        "colab": {
          "base_uri": "https://localhost:8080/"
        },
        "id": "rC87mWhiqoAS",
        "outputId": "1fab417b-27bc-4901-c1db-ec64cfd5a59a"
      },
      "execution_count": 26,
      "outputs": [
        {
          "output_type": "stream",
          "name": "stderr",
          "text": [
            "[nltk_data] Downloading package stopwords to /root/nltk_data...\n",
            "[nltk_data]   Unzipping corpora/stopwords.zip.\n"
          ]
        },
        {
          "output_type": "execute_result",
          "data": {
            "text/plain": [
              "['i',\n",
              " 'me',\n",
              " 'my',\n",
              " 'myself',\n",
              " 'we',\n",
              " 'our',\n",
              " 'ours',\n",
              " 'ourselves',\n",
              " 'you',\n",
              " \"you're\",\n",
              " \"you've\",\n",
              " \"you'll\",\n",
              " \"you'd\",\n",
              " 'your',\n",
              " 'yours',\n",
              " 'yourself',\n",
              " 'yourselves',\n",
              " 'he',\n",
              " 'him',\n",
              " 'his',\n",
              " 'himself',\n",
              " 'she',\n",
              " \"she's\",\n",
              " 'her',\n",
              " 'hers',\n",
              " 'herself',\n",
              " 'it',\n",
              " \"it's\",\n",
              " 'its',\n",
              " 'itself',\n",
              " 'they',\n",
              " 'them',\n",
              " 'their',\n",
              " 'theirs',\n",
              " 'themselves',\n",
              " 'what',\n",
              " 'which',\n",
              " 'who',\n",
              " 'whom',\n",
              " 'this',\n",
              " 'that',\n",
              " \"that'll\",\n",
              " 'these',\n",
              " 'those',\n",
              " 'am',\n",
              " 'is',\n",
              " 'are',\n",
              " 'was',\n",
              " 'were',\n",
              " 'be',\n",
              " 'been',\n",
              " 'being',\n",
              " 'have',\n",
              " 'has',\n",
              " 'had',\n",
              " 'having',\n",
              " 'do',\n",
              " 'does',\n",
              " 'did',\n",
              " 'doing',\n",
              " 'a',\n",
              " 'an',\n",
              " 'the',\n",
              " 'and',\n",
              " 'but',\n",
              " 'if',\n",
              " 'or',\n",
              " 'because',\n",
              " 'as',\n",
              " 'until',\n",
              " 'while',\n",
              " 'of',\n",
              " 'at',\n",
              " 'by',\n",
              " 'for',\n",
              " 'with',\n",
              " 'about',\n",
              " 'against',\n",
              " 'between',\n",
              " 'into',\n",
              " 'through',\n",
              " 'during',\n",
              " 'before',\n",
              " 'after',\n",
              " 'above',\n",
              " 'below',\n",
              " 'to',\n",
              " 'from',\n",
              " 'up',\n",
              " 'down',\n",
              " 'in',\n",
              " 'out',\n",
              " 'on',\n",
              " 'off',\n",
              " 'over',\n",
              " 'under',\n",
              " 'again',\n",
              " 'further',\n",
              " 'then',\n",
              " 'once',\n",
              " 'here',\n",
              " 'there',\n",
              " 'when',\n",
              " 'where',\n",
              " 'why',\n",
              " 'how',\n",
              " 'all',\n",
              " 'any',\n",
              " 'both',\n",
              " 'each',\n",
              " 'few',\n",
              " 'more',\n",
              " 'most',\n",
              " 'other',\n",
              " 'some',\n",
              " 'such',\n",
              " 'no',\n",
              " 'nor',\n",
              " 'not',\n",
              " 'only',\n",
              " 'own',\n",
              " 'same',\n",
              " 'so',\n",
              " 'than',\n",
              " 'too',\n",
              " 'very',\n",
              " 's',\n",
              " 't',\n",
              " 'can',\n",
              " 'will',\n",
              " 'just',\n",
              " 'don',\n",
              " \"don't\",\n",
              " 'should',\n",
              " \"should've\",\n",
              " 'now',\n",
              " 'd',\n",
              " 'll',\n",
              " 'm',\n",
              " 'o',\n",
              " 're',\n",
              " 've',\n",
              " 'y',\n",
              " 'ain',\n",
              " 'aren',\n",
              " \"aren't\",\n",
              " 'couldn',\n",
              " \"couldn't\",\n",
              " 'didn',\n",
              " \"didn't\",\n",
              " 'doesn',\n",
              " \"doesn't\",\n",
              " 'hadn',\n",
              " \"hadn't\",\n",
              " 'hasn',\n",
              " \"hasn't\",\n",
              " 'haven',\n",
              " \"haven't\",\n",
              " 'isn',\n",
              " \"isn't\",\n",
              " 'ma',\n",
              " 'mightn',\n",
              " \"mightn't\",\n",
              " 'mustn',\n",
              " \"mustn't\",\n",
              " 'needn',\n",
              " \"needn't\",\n",
              " 'shan',\n",
              " \"shan't\",\n",
              " 'shouldn',\n",
              " \"shouldn't\",\n",
              " 'wasn',\n",
              " \"wasn't\",\n",
              " 'weren',\n",
              " \"weren't\",\n",
              " 'won',\n",
              " \"won't\",\n",
              " 'wouldn',\n",
              " \"wouldn't\"]"
            ]
          },
          "metadata": {},
          "execution_count": 26
        }
      ]
    },
    {
      "cell_type": "code",
      "source": [
        "#stemming\n",
        "for i in corpus:\n",
        "  words=nltk.word_tokenize(i)\n",
        "  for word in words:\n",
        "    if word not in stopwords.words('english'):\n",
        "      print(stemmer.stem(word))"
      ],
      "metadata": {
        "colab": {
          "base_uri": "https://localhost:8080/"
        },
        "id": "YgOirOwbr9DO",
        "outputId": "09a67260-5c65-421b-ec20-09e4e4f63a52"
      },
      "execution_count": 29,
      "outputs": [
        {
          "output_type": "stream",
          "name": "stdout",
          "text": [
            "constitut\n",
            "india\n",
            "suprem\n",
            "law\n",
            "india\n",
            "document\n",
            "lay\n",
            "framework\n",
            "demarc\n",
            "fundament\n",
            "polit\n",
            "code\n",
            "structur\n",
            "procedur\n",
            "power\n",
            "duti\n",
            "govern\n",
            "institut\n",
            "set\n",
            "fundament\n",
            "right\n",
            "direct\n",
            "principl\n",
            "duti\n",
            "citizen\n",
            "base\n",
            "propos\n",
            "suggest\n",
            "n\n",
            "roy\n",
            "longest\n",
            "written\n",
            "nation\n",
            "constitut\n",
            "world\n",
            "impart\n",
            "constitut\n",
            "supremaci\n",
            "parliamentari\n",
            "supremaci\n",
            "sinc\n",
            "creat\n",
            "constitu\n",
            "assembl\n",
            "rather\n",
            "parliament\n",
            "adopt\n",
            "peopl\n",
            "declar\n",
            "preambl\n",
            "parliament\n",
            "overrid\n",
            "constitut\n",
            "b\n",
            "r\n",
            "ambedkar\n",
            "constitut\n",
            "india\n",
            "postag\n",
            "stamp\n",
            "india\n",
            "adopt\n",
            "constitu\n",
            "assembl\n",
            "india\n",
            "novemb\n",
            "becam\n",
            "effect\n",
            "januari\n",
            "constitut\n",
            "replac\n",
            "govern\n",
            "india\n",
            "act\n",
            "countri\n",
            "fundament\n",
            "govern\n",
            "document\n",
            "dominion\n",
            "india\n",
            "becam\n",
            "republ\n",
            "india\n",
            "ensur\n",
            "constitut\n",
            "autochthoni\n",
            "framer\n",
            "repeal\n",
            "prior\n",
            "act\n",
            "british\n",
            "parliament\n",
            "articl\n",
            "india\n",
            "celebr\n",
            "constitut\n",
            "januari\n",
            "republ\n",
            "day\n",
            "constitut\n",
            "declar\n",
            "india\n",
            "sovereign\n",
            "socialist\n",
            "secular\n",
            "democrat\n",
            "republ\n",
            "assur\n",
            "citizen\n",
            "justic\n",
            "equal\n",
            "liberti\n",
            "endeavour\n",
            "promot\n",
            "fratern\n",
            "origin\n",
            "constitut\n",
            "preserv\n",
            "nitrogen\n",
            "fill\n",
            "case\n",
            "parliament\n",
            "hous\n",
            "new\n",
            "delhi\n"
          ]
        }
      ]
    },
    {
      "cell_type": "code",
      "source": [
        "\n",
        "#lemmatization\n",
        "for i in corpus:\n",
        "  words=nltk.word_tokenize(i)\n",
        "  for word in words:\n",
        "    if word not in stopwords.words('english'):\n",
        "      print(lemmatizer.lemmatize(word))"
      ],
      "metadata": {
        "colab": {
          "base_uri": "https://localhost:8080/"
        },
        "id": "SSxeuT9Hr-Cf",
        "outputId": "a7d0b746-c1d2-4f73-e8d2-34dff649447f"
      },
      "execution_count": 31,
      "outputs": [
        {
          "output_type": "stream",
          "name": "stdout",
          "text": [
            "constitution\n",
            "india\n",
            "supreme\n",
            "law\n",
            "india\n",
            "document\n",
            "lay\n",
            "framework\n",
            "demarcates\n",
            "fundamental\n",
            "political\n",
            "code\n",
            "structure\n",
            "procedure\n",
            "power\n",
            "duty\n",
            "government\n",
            "institution\n",
            "set\n",
            "fundamental\n",
            "right\n",
            "directive\n",
            "principle\n",
            "duty\n",
            "citizen\n",
            "based\n",
            "proposal\n",
            "suggested\n",
            "n\n",
            "roy\n",
            "longest\n",
            "written\n",
            "national\n",
            "constitution\n",
            "world\n",
            "imparts\n",
            "constitutional\n",
            "supremacy\n",
            "parliamentary\n",
            "supremacy\n",
            "since\n",
            "created\n",
            "constituent\n",
            "assembly\n",
            "rather\n",
            "parliament\n",
            "adopted\n",
            "people\n",
            "declaration\n",
            "preamble\n",
            "parliament\n",
            "override\n",
            "constitution\n",
            "b\n",
            "r\n",
            "ambedkar\n",
            "constitution\n",
            "india\n",
            "postage\n",
            "stamp\n",
            "india\n",
            "adopted\n",
            "constituent\n",
            "assembly\n",
            "india\n",
            "november\n",
            "became\n",
            "effective\n",
            "january\n",
            "constitution\n",
            "replaced\n",
            "government\n",
            "india\n",
            "act\n",
            "country\n",
            "fundamental\n",
            "governing\n",
            "document\n",
            "dominion\n",
            "india\n",
            "became\n",
            "republic\n",
            "india\n",
            "ensure\n",
            "constitutional\n",
            "autochthony\n",
            "framer\n",
            "repealed\n",
            "prior\n",
            "act\n",
            "british\n",
            "parliament\n",
            "article\n",
            "india\n",
            "celebrates\n",
            "constitution\n",
            "january\n",
            "republic\n",
            "day\n",
            "constitution\n",
            "declares\n",
            "india\n",
            "sovereign\n",
            "socialist\n",
            "secular\n",
            "democratic\n",
            "republic\n",
            "assures\n",
            "citizen\n",
            "justice\n",
            "equality\n",
            "liberty\n",
            "endeavour\n",
            "promote\n",
            "fraternity\n",
            "original\n",
            "constitution\n",
            "preserved\n",
            "nitrogen\n",
            "filled\n",
            "case\n",
            "parliament\n",
            "house\n",
            "new\n",
            "delhi\n"
          ]
        }
      ]
    },
    {
      "cell_type": "code",
      "source": [
        "#Bag of words\n",
        "from sklearn.feature_extraction.text import CountVectorizer\n",
        "cv=CountVectorizer()"
      ],
      "metadata": {
        "id": "lSzEGmRiuOBm"
      },
      "execution_count": 32,
      "outputs": []
    },
    {
      "cell_type": "code",
      "source": [
        "x=cv.fit_transform(corpus)"
      ],
      "metadata": {
        "id": "TAuJnh0Wuu1p"
      },
      "execution_count": 33,
      "outputs": []
    },
    {
      "cell_type": "code",
      "source": [
        "cv.vocabulary_"
      ],
      "metadata": {
        "colab": {
          "base_uri": "https://localhost:8080/"
        },
        "id": "d2aRrXQeu8PC",
        "outputId": "85fd96f3-8ea5-4027-884c-8b0466ed23a9"
      },
      "execution_count": 35,
      "outputs": [
        {
          "output_type": "execute_result",
          "data": {
            "text/plain": [
              "{'the': 102,\n",
              " 'constitution': 21,\n",
              " 'of': 66,\n",
              " 'india': 50,\n",
              " 'is': 52,\n",
              " 'supreme': 99,\n",
              " 'law': 57,\n",
              " 'document': 32,\n",
              " 'lays': 58,\n",
              " 'down': 34,\n",
              " 'framework': 42,\n",
              " 'that': 101,\n",
              " 'demarcates': 29,\n",
              " 'fundamental': 44,\n",
              " 'political': 74,\n",
              " 'code': 19,\n",
              " 'structure': 96,\n",
              " 'procedures': 81,\n",
              " 'powers': 76,\n",
              " 'and': 4,\n",
              " 'duties': 35,\n",
              " 'government': 46,\n",
              " 'institutions': 51,\n",
              " 'sets': 91,\n",
              " 'out': 69,\n",
              " 'rights': 88,\n",
              " 'directive': 31,\n",
              " 'principles': 79,\n",
              " 'citizens': 18,\n",
              " 'based': 11,\n",
              " 'on': 67,\n",
              " 'proposal': 83,\n",
              " 'suggested': 97,\n",
              " 'by': 14,\n",
              " 'roy': 89,\n",
              " 'it': 53,\n",
              " 'longest': 60,\n",
              " 'written': 107,\n",
              " 'national': 61,\n",
              " 'in': 49,\n",
              " 'world': 106,\n",
              " 'imparts': 48,\n",
              " 'constitutional': 22,\n",
              " 'supremacy': 98,\n",
              " 'not': 64,\n",
              " 'parliamentary': 72,\n",
              " 'since': 92,\n",
              " 'was': 104,\n",
              " 'created': 24,\n",
              " 'constituent': 20,\n",
              " 'assembly': 7,\n",
              " 'rather': 84,\n",
              " 'than': 100,\n",
              " 'parliament': 71,\n",
              " 'adopted': 2,\n",
              " 'its': 54,\n",
              " 'people': 73,\n",
              " 'with': 105,\n",
              " 'declaration': 26,\n",
              " 'preamble': 77,\n",
              " 'cannot': 15,\n",
              " 'override': 70,\n",
              " 'ambedkar': 3,\n",
              " 'postage': 75,\n",
              " 'stamp': 95,\n",
              " 'november': 65,\n",
              " 'became': 12,\n",
              " 'effective': 36,\n",
              " 'january': 55,\n",
              " 'replaced': 86,\n",
              " 'act': 0,\n",
              " 'as': 6,\n",
              " 'country': 23,\n",
              " 'governing': 45,\n",
              " 'dominion': 33,\n",
              " 'republic': 87,\n",
              " 'to': 103,\n",
              " 'ensure': 38,\n",
              " 'autochthony': 10,\n",
              " 'framers': 41,\n",
              " 'repealed': 85,\n",
              " 'prior': 80,\n",
              " 'acts': 1,\n",
              " 'british': 13,\n",
              " 'article': 5,\n",
              " 'celebrates': 17,\n",
              " 'day': 25,\n",
              " 'declares': 27,\n",
              " 'sovereign': 94,\n",
              " 'socialist': 93,\n",
              " 'secular': 90,\n",
              " 'democratic': 30,\n",
              " 'assures': 8,\n",
              " 'justice': 56,\n",
              " 'equality': 39,\n",
              " 'liberty': 59,\n",
              " 'endeavours': 37,\n",
              " 'promote': 82,\n",
              " 'fraternity': 43,\n",
              " 'original': 68,\n",
              " 'preserved': 78,\n",
              " 'nitrogen': 63,\n",
              " 'filled': 40,\n",
              " 'case': 16,\n",
              " 'at': 9,\n",
              " 'house': 47,\n",
              " 'new': 62,\n",
              " 'delhi': 28}"
            ]
          },
          "metadata": {},
          "execution_count": 35
        }
      ]
    },
    {
      "cell_type": "code",
      "source": [
        "corpus[0]"
      ],
      "metadata": {
        "colab": {
          "base_uri": "https://localhost:8080/",
          "height": 35
        },
        "id": "bxIOG4WQu_j7",
        "outputId": "f633c1a4-6d42-4302-8ded-2d29d9961a9d"
      },
      "execution_count": 36,
      "outputs": [
        {
          "output_type": "execute_result",
          "data": {
            "text/plain": [
              "' the constitution of india is the supreme law of india '"
            ],
            "application/vnd.google.colaboratory.intrinsic+json": {
              "type": "string"
            }
          },
          "metadata": {},
          "execution_count": 36
        }
      ]
    },
    {
      "cell_type": "code",
      "source": [
        "x[0].toarray()"
      ],
      "metadata": {
        "colab": {
          "base_uri": "https://localhost:8080/"
        },
        "id": "FGC2uLJYvQ9c",
        "outputId": "f4d365f5-b78e-405c-b7ef-f22d073c3e28"
      },
      "execution_count": 37,
      "outputs": [
        {
          "output_type": "execute_result",
          "data": {
            "text/plain": [
              "array([[0, 0, 0, 0, 0, 0, 0, 0, 0, 0, 0, 0, 0, 0, 0, 0, 0, 0, 0, 0, 0, 1,\n",
              "        0, 0, 0, 0, 0, 0, 0, 0, 0, 0, 0, 0, 0, 0, 0, 0, 0, 0, 0, 0, 0, 0,\n",
              "        0, 0, 0, 0, 0, 0, 2, 0, 1, 0, 0, 0, 0, 1, 0, 0, 0, 0, 0, 0, 0, 0,\n",
              "        2, 0, 0, 0, 0, 0, 0, 0, 0, 0, 0, 0, 0, 0, 0, 0, 0, 0, 0, 0, 0, 0,\n",
              "        0, 0, 0, 0, 0, 0, 0, 0, 0, 0, 0, 1, 0, 0, 2, 0, 0, 0, 0, 0]])"
            ]
          },
          "metadata": {},
          "execution_count": 37
        }
      ]
    },
    {
      "cell_type": "code",
      "source": [
        "#Bag of words with only binary\n",
        "from sklearn.feature_extraction.text import CountVectorizer\n",
        "cv=CountVectorizer(binary=True)"
      ],
      "metadata": {
        "id": "G4wSQdFJvZ8I"
      },
      "execution_count": 38,
      "outputs": []
    },
    {
      "cell_type": "code",
      "source": [
        "x1=cv.fit_transform(corpus)"
      ],
      "metadata": {
        "id": "LYu95VXqvzq-"
      },
      "execution_count": 39,
      "outputs": []
    },
    {
      "cell_type": "code",
      "source": [
        "x1[0].toarray()"
      ],
      "metadata": {
        "colab": {
          "base_uri": "https://localhost:8080/"
        },
        "id": "VcvbyKmTv5dF",
        "outputId": "2304b14e-bfff-4c83-e4b1-41af5afc26be"
      },
      "execution_count": 40,
      "outputs": [
        {
          "output_type": "execute_result",
          "data": {
            "text/plain": [
              "array([[0, 0, 0, 0, 0, 0, 0, 0, 0, 0, 0, 0, 0, 0, 0, 0, 0, 0, 0, 0, 0, 1,\n",
              "        0, 0, 0, 0, 0, 0, 0, 0, 0, 0, 0, 0, 0, 0, 0, 0, 0, 0, 0, 0, 0, 0,\n",
              "        0, 0, 0, 0, 0, 0, 1, 0, 1, 0, 0, 0, 0, 1, 0, 0, 0, 0, 0, 0, 0, 0,\n",
              "        1, 0, 0, 0, 0, 0, 0, 0, 0, 0, 0, 0, 0, 0, 0, 0, 0, 0, 0, 0, 0, 0,\n",
              "        0, 0, 0, 0, 0, 0, 0, 0, 0, 0, 0, 1, 0, 0, 1, 0, 0, 0, 0, 0]])"
            ]
          },
          "metadata": {},
          "execution_count": 40
        }
      ]
    },
    {
      "cell_type": "code",
      "source": [
        "import re\n",
        "corpus=[]\n",
        "for i in range(len(sentances)):\n",
        "  reviwe=re.sub('^a-zA-Z',' ',sentances[i])\n",
        "  reviwe=reviwe.lower()\n",
        "  reviwe=reviwe.split()\n",
        "  reviwe=[lemmatizer.lemmatize(word) for word in reviwe if not word in stopwords.words('english')]\n",
        "  reviwe=' '.join(reviwe)\n",
        "  corpus.append(reviwe)\n",
        ""
      ],
      "metadata": {
        "id": "_3D8DueGv819"
      },
      "execution_count": 41,
      "outputs": []
    },
    {
      "cell_type": "code",
      "source": [
        "corpus"
      ],
      "metadata": {
        "colab": {
          "base_uri": "https://localhost:8080/"
        },
        "id": "yx-2hMOJx9Te",
        "outputId": "69af23fd-d113-476d-f139-2e306838ffe5"
      },
      "execution_count": 42,
      "outputs": [
        {
          "output_type": "execute_result",
          "data": {
            "text/plain": [
              "['constitution india supreme law india.',\n",
              " '[2][3] document lay framework demarcates fundamental political code, structure, procedures, powers, duty government institution set fundamental rights, directive principles, duty citizens, based proposal suggested m. n. roy.',\n",
              " 'longest written national constitution world.',\n",
              " '[4][5][6] imparts constitutional supremacy (not parliamentary supremacy, since created constituent assembly rather parliament) adopted people declaration preamble.',\n",
              " 'parliament cannot override constitution.',\n",
              " '[7] b. r. ambedkar constitution india 2015 postage stamp india adopted constituent assembly india 26 november 1949 became effective 26 january 1950.',\n",
              " \"[8] constitution replaced government india act 1935 country's fundamental governing document, dominion india became republic india.\",\n",
              " 'ensure constitutional autochthony, framer repealed prior act british parliament article 395.',\n",
              " '[9] india celebrates constitution 26 january republic day.',\n",
              " '[10] constitution declares india sovereign, socialist, secular,[11] democratic republic, assures citizen justice, equality, liberty, endeavour promote fraternity.',\n",
              " '[12] original 1950 constitution preserved nitrogen-filled case parliament house new delhi.',\n",
              " '[13]']"
            ]
          },
          "metadata": {},
          "execution_count": 42
        }
      ]
    },
    {
      "cell_type": "code",
      "source": [
        "#Bag of words with only binary\n",
        "from sklearn.feature_extraction.text import CountVectorizer\n",
        "cv=CountVectorizer(binary=True)"
      ],
      "metadata": {
        "id": "4Lx27NMcyAYE"
      },
      "execution_count": 43,
      "outputs": []
    },
    {
      "cell_type": "code",
      "source": [
        "x=cv.fit_transform(corpus)"
      ],
      "metadata": {
        "id": "U5nlewzFyNH1"
      },
      "execution_count": 44,
      "outputs": []
    },
    {
      "cell_type": "code",
      "source": [
        "x[0].toarray()"
      ],
      "metadata": {
        "colab": {
          "base_uri": "https://localhost:8080/"
        },
        "id": "wjitCZUkyRU4",
        "outputId": "be9cb323-1c40-4c54-d137-4b2f154b1d94"
      },
      "execution_count": 50,
      "outputs": [
        {
          "output_type": "execute_result",
          "data": {
            "text/plain": [
              "array([[0, 0, 0, 0, 0, 0, 0, 0, 0, 0, 0, 0, 0, 0, 0, 0, 0, 0, 0, 0, 0, 0,\n",
              "        0, 0, 0, 0, 0, 1, 0, 0, 0, 0, 0, 0, 0, 0, 0, 0, 0, 0, 0, 0, 0, 0,\n",
              "        0, 0, 0, 0, 0, 0, 0, 0, 0, 0, 1, 0, 0, 0, 1, 0, 0, 0, 0, 0, 0, 0,\n",
              "        0, 0, 0, 0, 0, 0, 0, 0, 0, 0, 0, 0, 0, 0, 0, 0, 0, 0, 0, 0, 0, 0,\n",
              "        0, 0, 0, 0, 0, 0, 0, 0, 0, 1, 0, 0]])"
            ]
          },
          "metadata": {},
          "execution_count": 50
        }
      ]
    },
    {
      "cell_type": "code",
      "source": [],
      "metadata": {
        "id": "7QYE5qZRyTR3"
      },
      "execution_count": null,
      "outputs": []
    }
  ]
}