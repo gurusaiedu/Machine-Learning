{
  "nbformat": 4,
  "nbformat_minor": 0,
  "metadata": {
    "colab": {
      "provenance": [],
      "authorship_tag": "ABX9TyPYfcGCpET5nY+T2Y7WUH77",
      "include_colab_link": true
    },
    "kernelspec": {
      "name": "python3",
      "display_name": "Python 3"
    },
    "language_info": {
      "name": "python"
    }
  },
  "cells": [
    {
      "cell_type": "markdown",
      "metadata": {
        "id": "view-in-github",
        "colab_type": "text"
      },
      "source": [
        "<a href=\"https://colab.research.google.com/github/gurusaiedu/Machine-Learning/blob/main/DataPreprocessing.ipynb\" target=\"_parent\"><img src=\"https://colab.research.google.com/assets/colab-badge.svg\" alt=\"Open In Colab\"/></a>"
      ]
    },
    {
      "cell_type": "code",
      "execution_count": 17,
      "metadata": {
        "colab": {
          "base_uri": "https://localhost:8080/"
        },
        "id": "NUhUHHxyoPCw",
        "outputId": "764e9aa2-a01e-4c73-d95f-e7961457aacf"
      },
      "outputs": [
        {
          "output_type": "stream",
          "name": "stdout",
          "text": [
            "Requirement already satisfied: nltk in /usr/local/lib/python3.10/dist-packages (3.8.1)\n",
            "Requirement already satisfied: click in /usr/local/lib/python3.10/dist-packages (from nltk) (8.1.7)\n",
            "Requirement already satisfied: joblib in /usr/local/lib/python3.10/dist-packages (from nltk) (1.3.2)\n",
            "Requirement already satisfied: regex>=2021.8.3 in /usr/local/lib/python3.10/dist-packages (from nltk) (2023.12.25)\n",
            "Requirement already satisfied: tqdm in /usr/local/lib/python3.10/dist-packages (from nltk) (4.66.2)\n"
          ]
        }
      ],
      "source": [
        "!pip install nltk"
      ]
    },
    {
      "cell_type": "code",
      "source": [
        "paragraph=\"\"\"\n",
        "The Constitution of India is the supreme law of India.[2][3] The document lays down the framework that demarcates fundamental political code, structure, procedures, powers, and duties of government institutions and sets out fundamental rights, directive principles, and the duties of citizens, based on the proposal suggested by M. N. Roy. It is the longest written national constitution in the world.[4][5][6]\n",
        "\n",
        "It imparts constitutional supremacy (not parliamentary supremacy, since it was created by a constituent assembly rather than Parliament) and was adopted by its people with a declaration in its preamble. Parliament cannot override the constitution.[7]\n",
        "\n",
        "\n",
        "B. R. Ambedkar and Constitution of India on a 2015 postage stamp of India\n",
        "It was adopted by the Constituent Assembly of India on 26 November 1949 and became effective on 26 January 1950.[8] The constitution replaced the Government of India Act 1935 as the country's fundamental governing document, and the Dominion of India became the Republic of India. To ensure constitutional autochthony, its framers repealed prior acts of the British parliament in Article 395.[9] India celebrates its constitution on 26 January as Republic Day.[10]\n",
        "\n",
        "The constitution declares India a sovereign, socialist, secular,[11] and democratic republic, assures its citizens justice, equality, and liberty, and endeavours to promote fraternity.[12] The original 1950 constitution is preserved in a nitrogen-filled case at the Parliament House in New Delhi.[13]\n",
        "\"\"\""
      ],
      "metadata": {
        "id": "xBF91ek0oXIC"
      },
      "execution_count": 18,
      "outputs": []
    },
    {
      "cell_type": "code",
      "source": [
        "import nltk\n",
        "nltk.download('stopwords')\n",
        "nltk.download('wordnet')\n",
        "nltk.download('punkt')"
      ],
      "metadata": {
        "colab": {
          "base_uri": "https://localhost:8080/"
        },
        "id": "UizTCXa4fUvy",
        "outputId": "201265a8-98f8-4573-d283-a76d2988791a"
      },
      "execution_count": 19,
      "outputs": [
        {
          "output_type": "stream",
          "name": "stderr",
          "text": [
            "[nltk_data] Downloading package stopwords to /root/nltk_data...\n",
            "[nltk_data]   Package stopwords is already up-to-date!\n",
            "[nltk_data] Downloading package wordnet to /root/nltk_data...\n",
            "[nltk_data]   Package wordnet is already up-to-date!\n",
            "[nltk_data] Downloading package punkt to /root/nltk_data...\n",
            "[nltk_data]   Package punkt is already up-to-date!\n"
          ]
        },
        {
          "output_type": "execute_result",
          "data": {
            "text/plain": [
              "True"
            ]
          },
          "metadata": {},
          "execution_count": 19
        }
      ]
    },
    {
      "cell_type": "code",
      "source": [
        "import nltk\n",
        "from nltk.stem import PorterStemmer\n",
        "from nltk.corpus import stopwords"
      ],
      "metadata": {
        "id": "-wxL2UBEovlS"
      },
      "execution_count": 20,
      "outputs": []
    },
    {
      "cell_type": "code",
      "source": [
        "\n",
        "sentances=nltk.sent_tokenize(paragraph)"
      ],
      "metadata": {
        "id": "V7kP6hy-pImD"
      },
      "execution_count": 21,
      "outputs": []
    },
    {
      "cell_type": "code",
      "source": [
        "sentances"
      ],
      "metadata": {
        "colab": {
          "base_uri": "https://localhost:8080/"
        },
        "id": "UdTJ8Kg6pXBO",
        "outputId": "7dbb6284-c49f-4b09-a7b1-33afc293ecd2"
      },
      "execution_count": 22,
      "outputs": [
        {
          "output_type": "execute_result",
          "data": {
            "text/plain": [
              "['\\nThe Constitution of India is the supreme law of India.',\n",
              " '[2][3] The document lays down the framework that demarcates fundamental political code, structure, procedures, powers, and duties of government institutions and sets out fundamental rights, directive principles, and the duties of citizens, based on the proposal suggested by M. N. Roy.',\n",
              " 'It is the longest written national constitution in the world.',\n",
              " '[4][5][6]\\n\\nIt imparts constitutional supremacy (not parliamentary supremacy, since it was created by a constituent assembly rather than Parliament) and was adopted by its people with a declaration in its preamble.',\n",
              " 'Parliament cannot override the constitution.',\n",
              " '[7]\\n\\n\\nB. R. Ambedkar and Constitution of India on a 2015 postage stamp of India\\nIt was adopted by the Constituent Assembly of India on 26 November 1949 and became effective on 26 January 1950.',\n",
              " \"[8] The constitution replaced the Government of India Act 1935 as the country's fundamental governing document, and the Dominion of India became the Republic of India.\",\n",
              " 'To ensure constitutional autochthony, its framers repealed prior acts of the British parliament in Article 395.',\n",
              " '[9] India celebrates its constitution on 26 January as Republic Day.',\n",
              " '[10]\\n\\nThe constitution declares India a sovereign, socialist, secular,[11] and democratic republic, assures its citizens justice, equality, and liberty, and endeavours to promote fraternity.',\n",
              " '[12] The original 1950 constitution is preserved in a nitrogen-filled case at the Parliament House in New Delhi.',\n",
              " '[13]']"
            ]
          },
          "metadata": {},
          "execution_count": 22
        }
      ]
    },
    {
      "cell_type": "markdown",
      "source": [
        "**cleaning the text**"
      ],
      "metadata": {
        "id": "IrhqYl9FsOBr"
      }
    },
    {
      "cell_type": "code",
      "source": [
        "#cleaning the text\n",
        "\n",
        "import re\n",
        "sentances=nltk.sent_tokenize(paragraph)\n",
        "corpus1=[]\n",
        "for i in range(len(sentances)):\n",
        "  review=re.sub('[^a-zA-Z]',' ',sentances[i])\n",
        "  review=review.lower()\n",
        "  corpus1.append(review)"
      ],
      "metadata": {
        "id": "UYdNlRMzsENY"
      },
      "execution_count": 23,
      "outputs": []
    },
    {
      "cell_type": "code",
      "source": [
        "corpus1"
      ],
      "metadata": {
        "colab": {
          "base_uri": "https://localhost:8080/"
        },
        "id": "ZXwSwrf-sGCZ",
        "outputId": "f3e018b6-a58a-4812-f981-bad16e7dcbb3"
      },
      "execution_count": 24,
      "outputs": [
        {
          "output_type": "execute_result",
          "data": {
            "text/plain": [
              "[' the constitution of india is the supreme law of india ',\n",
              " '       the document lays down the framework that demarcates fundamental political code  structure  procedures  powers  and duties of government institutions and sets out fundamental rights  directive principles  and the duties of citizens  based on the proposal suggested by m  n  roy ',\n",
              " 'it is the longest written national constitution in the world ',\n",
              " '           it imparts constitutional supremacy  not parliamentary supremacy  since it was created by a constituent assembly rather than parliament  and was adopted by its people with a declaration in its preamble ',\n",
              " 'parliament cannot override the constitution ',\n",
              " '      b  r  ambedkar and constitution of india on a      postage stamp of india it was adopted by the constituent assembly of india on    november      and became effective on    january      ',\n",
              " '    the constitution replaced the government of india act      as the country s fundamental governing document  and the dominion of india became the republic of india ',\n",
              " 'to ensure constitutional autochthony  its framers repealed prior acts of the british parliament in article     ',\n",
              " '    india celebrates its constitution on    january as republic day ',\n",
              " '      the constitution declares india a sovereign  socialist  secular      and democratic republic  assures its citizens justice  equality  and liberty  and endeavours to promote fraternity ',\n",
              " '     the original      constitution is preserved in a nitrogen filled case at the parliament house in new delhi ',\n",
              " '    ']"
            ]
          },
          "metadata": {},
          "execution_count": 24
        }
      ]
    },
    {
      "cell_type": "markdown",
      "source": [
        "**Stemming**"
      ],
      "metadata": {
        "id": "QeKVjVnAsJwA"
      }
    },
    {
      "cell_type": "code",
      "source": [
        "stemmer=PorterStemmer()"
      ],
      "metadata": {
        "id": "_uGbdKJ6pZRS"
      },
      "execution_count": null,
      "outputs": []
    },
    {
      "cell_type": "code",
      "source": [
        "stemmer.stem(\"going\")"
      ],
      "metadata": {
        "colab": {
          "base_uri": "https://localhost:8080/",
          "height": 35
        },
        "id": "UD-9MlLbphgy",
        "outputId": "88d686f0-318b-46f1-be5b-becea113d0ad"
      },
      "execution_count": null,
      "outputs": [
        {
          "output_type": "execute_result",
          "data": {
            "text/plain": [
              "'go'"
            ],
            "application/vnd.google.colaboratory.intrinsic+json": {
              "type": "string"
            }
          },
          "metadata": {},
          "execution_count": 8
        }
      ]
    },
    {
      "cell_type": "code",
      "source": [
        "stemmer.stem(\"history\")"
      ],
      "metadata": {
        "colab": {
          "base_uri": "https://localhost:8080/",
          "height": 35
        },
        "id": "xl3sdNllpm9W",
        "outputId": "e8b62cbf-da00-4304-caef-144ab249d147"
      },
      "execution_count": null,
      "outputs": [
        {
          "output_type": "execute_result",
          "data": {
            "text/plain": [
              "'histori'"
            ],
            "application/vnd.google.colaboratory.intrinsic+json": {
              "type": "string"
            }
          },
          "metadata": {},
          "execution_count": 9
        }
      ]
    },
    {
      "cell_type": "code",
      "source": [
        "stemmer.stem(\"goes\")"
      ],
      "metadata": {
        "colab": {
          "base_uri": "https://localhost:8080/",
          "height": 35
        },
        "id": "skfLO7PZqrvJ",
        "outputId": "2b334952-f7de-4081-ed27-6f7527c73aeb"
      },
      "execution_count": null,
      "outputs": [
        {
          "output_type": "execute_result",
          "data": {
            "text/plain": [
              "'goe'"
            ],
            "application/vnd.google.colaboratory.intrinsic+json": {
              "type": "string"
            }
          },
          "metadata": {},
          "execution_count": 19
        }
      ]
    },
    {
      "cell_type": "markdown",
      "source": [
        "in stemming not \"meaning \" but if we use WordNetLemmatizer it founds meaning also\n",
        "\n",
        "\n"
      ],
      "metadata": {
        "id": "CJjHlfg4qvEx"
      }
    },
    {
      "cell_type": "code",
      "source": [],
      "metadata": {
        "colab": {
          "base_uri": "https://localhost:8080/"
        },
        "id": "4Zz9ToETqeQ7",
        "outputId": "2d6e0efb-6c5a-4aca-ee55-ce25fdfb6367"
      },
      "execution_count": null,
      "outputs": [
        {
          "output_type": "stream",
          "name": "stderr",
          "text": [
            "[nltk_data] Downloading package wordnet to /root/nltk_data...\n"
          ]
        },
        {
          "output_type": "execute_result",
          "data": {
            "text/plain": [
              "True"
            ]
          },
          "metadata": {},
          "execution_count": 14
        }
      ]
    },
    {
      "cell_type": "code",
      "source": [
        "from nltk.stem import WordNetLemmatizer\n",
        "lemmatizer=WordNetLemmatizer()"
      ],
      "metadata": {
        "id": "VZLHIoSDp8iS"
      },
      "execution_count": null,
      "outputs": []
    },
    {
      "cell_type": "code",
      "source": [],
      "metadata": {
        "id": "MZzF5KMtqddk"
      },
      "execution_count": null,
      "outputs": []
    },
    {
      "cell_type": "code",
      "source": [
        "lemmatizer.lemmatize('going')"
      ],
      "metadata": {
        "colab": {
          "base_uri": "https://localhost:8080/",
          "height": 35
        },
        "id": "u15Yurt7qJti",
        "outputId": "d8a49987-153a-437a-cb6f-a4bf6dabef7c"
      },
      "execution_count": null,
      "outputs": [
        {
          "output_type": "execute_result",
          "data": {
            "text/plain": [
              "'going'"
            ],
            "application/vnd.google.colaboratory.intrinsic+json": {
              "type": "string"
            }
          },
          "metadata": {},
          "execution_count": 16
        }
      ]
    },
    {
      "cell_type": "code",
      "source": [
        "lemmatizer.lemmatize('history')"
      ],
      "metadata": {
        "colab": {
          "base_uri": "https://localhost:8080/",
          "height": 35
        },
        "id": "h4czeLBvqN8S",
        "outputId": "183f8cdc-3050-4407-e558-7e33334f23a2"
      },
      "execution_count": null,
      "outputs": [
        {
          "output_type": "execute_result",
          "data": {
            "text/plain": [
              "'history'"
            ],
            "application/vnd.google.colaboratory.intrinsic+json": {
              "type": "string"
            }
          },
          "metadata": {},
          "execution_count": 17
        }
      ]
    },
    {
      "cell_type": "code",
      "source": [
        "lemmatizer.lemmatize('goes')"
      ],
      "metadata": {
        "colab": {
          "base_uri": "https://localhost:8080/",
          "height": 35
        },
        "id": "ojEKtZOJqmaq",
        "outputId": "976528e9-fd0d-4187-d0a5-21a2873e1bf4"
      },
      "execution_count": null,
      "outputs": [
        {
          "output_type": "execute_result",
          "data": {
            "text/plain": [
              "'go'"
            ],
            "application/vnd.google.colaboratory.intrinsic+json": {
              "type": "string"
            }
          },
          "metadata": {},
          "execution_count": 18
        }
      ]
    },
    {
      "cell_type": "code",
      "source": [
        "\n",
        "stopwords.words('english')"
      ],
      "metadata": {
        "colab": {
          "base_uri": "https://localhost:8080/"
        },
        "id": "rC87mWhiqoAS",
        "outputId": "1fab417b-27bc-4901-c1db-ec64cfd5a59a"
      },
      "execution_count": null,
      "outputs": [
        {
          "output_type": "stream",
          "name": "stderr",
          "text": [
            "[nltk_data] Downloading package stopwords to /root/nltk_data...\n",
            "[nltk_data]   Unzipping corpora/stopwords.zip.\n"
          ]
        },
        {
          "output_type": "execute_result",
          "data": {
            "text/plain": [
              "['i',\n",
              " 'me',\n",
              " 'my',\n",
              " 'myself',\n",
              " 'we',\n",
              " 'our',\n",
              " 'ours',\n",
              " 'ourselves',\n",
              " 'you',\n",
              " \"you're\",\n",
              " \"you've\",\n",
              " \"you'll\",\n",
              " \"you'd\",\n",
              " 'your',\n",
              " 'yours',\n",
              " 'yourself',\n",
              " 'yourselves',\n",
              " 'he',\n",
              " 'him',\n",
              " 'his',\n",
              " 'himself',\n",
              " 'she',\n",
              " \"she's\",\n",
              " 'her',\n",
              " 'hers',\n",
              " 'herself',\n",
              " 'it',\n",
              " \"it's\",\n",
              " 'its',\n",
              " 'itself',\n",
              " 'they',\n",
              " 'them',\n",
              " 'their',\n",
              " 'theirs',\n",
              " 'themselves',\n",
              " 'what',\n",
              " 'which',\n",
              " 'who',\n",
              " 'whom',\n",
              " 'this',\n",
              " 'that',\n",
              " \"that'll\",\n",
              " 'these',\n",
              " 'those',\n",
              " 'am',\n",
              " 'is',\n",
              " 'are',\n",
              " 'was',\n",
              " 'were',\n",
              " 'be',\n",
              " 'been',\n",
              " 'being',\n",
              " 'have',\n",
              " 'has',\n",
              " 'had',\n",
              " 'having',\n",
              " 'do',\n",
              " 'does',\n",
              " 'did',\n",
              " 'doing',\n",
              " 'a',\n",
              " 'an',\n",
              " 'the',\n",
              " 'and',\n",
              " 'but',\n",
              " 'if',\n",
              " 'or',\n",
              " 'because',\n",
              " 'as',\n",
              " 'until',\n",
              " 'while',\n",
              " 'of',\n",
              " 'at',\n",
              " 'by',\n",
              " 'for',\n",
              " 'with',\n",
              " 'about',\n",
              " 'against',\n",
              " 'between',\n",
              " 'into',\n",
              " 'through',\n",
              " 'during',\n",
              " 'before',\n",
              " 'after',\n",
              " 'above',\n",
              " 'below',\n",
              " 'to',\n",
              " 'from',\n",
              " 'up',\n",
              " 'down',\n",
              " 'in',\n",
              " 'out',\n",
              " 'on',\n",
              " 'off',\n",
              " 'over',\n",
              " 'under',\n",
              " 'again',\n",
              " 'further',\n",
              " 'then',\n",
              " 'once',\n",
              " 'here',\n",
              " 'there',\n",
              " 'when',\n",
              " 'where',\n",
              " 'why',\n",
              " 'how',\n",
              " 'all',\n",
              " 'any',\n",
              " 'both',\n",
              " 'each',\n",
              " 'few',\n",
              " 'more',\n",
              " 'most',\n",
              " 'other',\n",
              " 'some',\n",
              " 'such',\n",
              " 'no',\n",
              " 'nor',\n",
              " 'not',\n",
              " 'only',\n",
              " 'own',\n",
              " 'same',\n",
              " 'so',\n",
              " 'than',\n",
              " 'too',\n",
              " 'very',\n",
              " 's',\n",
              " 't',\n",
              " 'can',\n",
              " 'will',\n",
              " 'just',\n",
              " 'don',\n",
              " \"don't\",\n",
              " 'should',\n",
              " \"should've\",\n",
              " 'now',\n",
              " 'd',\n",
              " 'll',\n",
              " 'm',\n",
              " 'o',\n",
              " 're',\n",
              " 've',\n",
              " 'y',\n",
              " 'ain',\n",
              " 'aren',\n",
              " \"aren't\",\n",
              " 'couldn',\n",
              " \"couldn't\",\n",
              " 'didn',\n",
              " \"didn't\",\n",
              " 'doesn',\n",
              " \"doesn't\",\n",
              " 'hadn',\n",
              " \"hadn't\",\n",
              " 'hasn',\n",
              " \"hasn't\",\n",
              " 'haven',\n",
              " \"haven't\",\n",
              " 'isn',\n",
              " \"isn't\",\n",
              " 'ma',\n",
              " 'mightn',\n",
              " \"mightn't\",\n",
              " 'mustn',\n",
              " \"mustn't\",\n",
              " 'needn',\n",
              " \"needn't\",\n",
              " 'shan',\n",
              " \"shan't\",\n",
              " 'shouldn',\n",
              " \"shouldn't\",\n",
              " 'wasn',\n",
              " \"wasn't\",\n",
              " 'weren',\n",
              " \"weren't\",\n",
              " 'won',\n",
              " \"won't\",\n",
              " 'wouldn',\n",
              " \"wouldn't\"]"
            ]
          },
          "metadata": {},
          "execution_count": 26
        }
      ]
    },
    {
      "cell_type": "code",
      "source": [
        "#stemming\n",
        "for i in corpus:\n",
        "  words=nltk.word_tokenize(i)\n",
        "  for word in words:\n",
        "    if word not in stopwords.words('english'):\n",
        "      print(stemmer.stem(word))"
      ],
      "metadata": {
        "colab": {
          "base_uri": "https://localhost:8080/"
        },
        "id": "YgOirOwbr9DO",
        "outputId": "09a67260-5c65-421b-ec20-09e4e4f63a52"
      },
      "execution_count": null,
      "outputs": [
        {
          "output_type": "stream",
          "name": "stdout",
          "text": [
            "constitut\n",
            "india\n",
            "suprem\n",
            "law\n",
            "india\n",
            "document\n",
            "lay\n",
            "framework\n",
            "demarc\n",
            "fundament\n",
            "polit\n",
            "code\n",
            "structur\n",
            "procedur\n",
            "power\n",
            "duti\n",
            "govern\n",
            "institut\n",
            "set\n",
            "fundament\n",
            "right\n",
            "direct\n",
            "principl\n",
            "duti\n",
            "citizen\n",
            "base\n",
            "propos\n",
            "suggest\n",
            "n\n",
            "roy\n",
            "longest\n",
            "written\n",
            "nation\n",
            "constitut\n",
            "world\n",
            "impart\n",
            "constitut\n",
            "supremaci\n",
            "parliamentari\n",
            "supremaci\n",
            "sinc\n",
            "creat\n",
            "constitu\n",
            "assembl\n",
            "rather\n",
            "parliament\n",
            "adopt\n",
            "peopl\n",
            "declar\n",
            "preambl\n",
            "parliament\n",
            "overrid\n",
            "constitut\n",
            "b\n",
            "r\n",
            "ambedkar\n",
            "constitut\n",
            "india\n",
            "postag\n",
            "stamp\n",
            "india\n",
            "adopt\n",
            "constitu\n",
            "assembl\n",
            "india\n",
            "novemb\n",
            "becam\n",
            "effect\n",
            "januari\n",
            "constitut\n",
            "replac\n",
            "govern\n",
            "india\n",
            "act\n",
            "countri\n",
            "fundament\n",
            "govern\n",
            "document\n",
            "dominion\n",
            "india\n",
            "becam\n",
            "republ\n",
            "india\n",
            "ensur\n",
            "constitut\n",
            "autochthoni\n",
            "framer\n",
            "repeal\n",
            "prior\n",
            "act\n",
            "british\n",
            "parliament\n",
            "articl\n",
            "india\n",
            "celebr\n",
            "constitut\n",
            "januari\n",
            "republ\n",
            "day\n",
            "constitut\n",
            "declar\n",
            "india\n",
            "sovereign\n",
            "socialist\n",
            "secular\n",
            "democrat\n",
            "republ\n",
            "assur\n",
            "citizen\n",
            "justic\n",
            "equal\n",
            "liberti\n",
            "endeavour\n",
            "promot\n",
            "fratern\n",
            "origin\n",
            "constitut\n",
            "preserv\n",
            "nitrogen\n",
            "fill\n",
            "case\n",
            "parliament\n",
            "hous\n",
            "new\n",
            "delhi\n"
          ]
        }
      ]
    },
    {
      "cell_type": "code",
      "source": [
        "\n",
        "#lemmatization\n",
        "for i in corpus1:\n",
        "  words=nltk.word_tokenize(i)\n",
        "  for word in words:\n",
        "    if word not in stopwords.words('english'):\n",
        "      print(lemmatizer.lemmatize(word))"
      ],
      "metadata": {
        "colab": {
          "base_uri": "https://localhost:8080/"
        },
        "id": "SSxeuT9Hr-Cf",
        "outputId": "a7d0b746-c1d2-4f73-e8d2-34dff649447f"
      },
      "execution_count": null,
      "outputs": [
        {
          "output_type": "stream",
          "name": "stdout",
          "text": [
            "constitution\n",
            "india\n",
            "supreme\n",
            "law\n",
            "india\n",
            "document\n",
            "lay\n",
            "framework\n",
            "demarcates\n",
            "fundamental\n",
            "political\n",
            "code\n",
            "structure\n",
            "procedure\n",
            "power\n",
            "duty\n",
            "government\n",
            "institution\n",
            "set\n",
            "fundamental\n",
            "right\n",
            "directive\n",
            "principle\n",
            "duty\n",
            "citizen\n",
            "based\n",
            "proposal\n",
            "suggested\n",
            "n\n",
            "roy\n",
            "longest\n",
            "written\n",
            "national\n",
            "constitution\n",
            "world\n",
            "imparts\n",
            "constitutional\n",
            "supremacy\n",
            "parliamentary\n",
            "supremacy\n",
            "since\n",
            "created\n",
            "constituent\n",
            "assembly\n",
            "rather\n",
            "parliament\n",
            "adopted\n",
            "people\n",
            "declaration\n",
            "preamble\n",
            "parliament\n",
            "override\n",
            "constitution\n",
            "b\n",
            "r\n",
            "ambedkar\n",
            "constitution\n",
            "india\n",
            "postage\n",
            "stamp\n",
            "india\n",
            "adopted\n",
            "constituent\n",
            "assembly\n",
            "india\n",
            "november\n",
            "became\n",
            "effective\n",
            "january\n",
            "constitution\n",
            "replaced\n",
            "government\n",
            "india\n",
            "act\n",
            "country\n",
            "fundamental\n",
            "governing\n",
            "document\n",
            "dominion\n",
            "india\n",
            "became\n",
            "republic\n",
            "india\n",
            "ensure\n",
            "constitutional\n",
            "autochthony\n",
            "framer\n",
            "repealed\n",
            "prior\n",
            "act\n",
            "british\n",
            "parliament\n",
            "article\n",
            "india\n",
            "celebrates\n",
            "constitution\n",
            "january\n",
            "republic\n",
            "day\n",
            "constitution\n",
            "declares\n",
            "india\n",
            "sovereign\n",
            "socialist\n",
            "secular\n",
            "democratic\n",
            "republic\n",
            "assures\n",
            "citizen\n",
            "justice\n",
            "equality\n",
            "liberty\n",
            "endeavour\n",
            "promote\n",
            "fraternity\n",
            "original\n",
            "constitution\n",
            "preserved\n",
            "nitrogen\n",
            "filled\n",
            "case\n",
            "parliament\n",
            "house\n",
            "new\n",
            "delhi\n"
          ]
        }
      ]
    },
    {
      "cell_type": "code",
      "source": [
        "#Bag of words\n",
        "from sklearn.feature_extraction.text import CountVectorizer\n",
        "cv=CountVectorizer()"
      ],
      "metadata": {
        "id": "lSzEGmRiuOBm"
      },
      "execution_count": null,
      "outputs": []
    },
    {
      "cell_type": "code",
      "source": [
        "x=cv.fit_transform(corpus1)"
      ],
      "metadata": {
        "id": "TAuJnh0Wuu1p"
      },
      "execution_count": null,
      "outputs": []
    },
    {
      "cell_type": "code",
      "source": [
        "cv.vocabulary_"
      ],
      "metadata": {
        "colab": {
          "base_uri": "https://localhost:8080/"
        },
        "id": "d2aRrXQeu8PC",
        "outputId": "85fd96f3-8ea5-4027-884c-8b0466ed23a9"
      },
      "execution_count": null,
      "outputs": [
        {
          "output_type": "execute_result",
          "data": {
            "text/plain": [
              "{'the': 102,\n",
              " 'constitution': 21,\n",
              " 'of': 66,\n",
              " 'india': 50,\n",
              " 'is': 52,\n",
              " 'supreme': 99,\n",
              " 'law': 57,\n",
              " 'document': 32,\n",
              " 'lays': 58,\n",
              " 'down': 34,\n",
              " 'framework': 42,\n",
              " 'that': 101,\n",
              " 'demarcates': 29,\n",
              " 'fundamental': 44,\n",
              " 'political': 74,\n",
              " 'code': 19,\n",
              " 'structure': 96,\n",
              " 'procedures': 81,\n",
              " 'powers': 76,\n",
              " 'and': 4,\n",
              " 'duties': 35,\n",
              " 'government': 46,\n",
              " 'institutions': 51,\n",
              " 'sets': 91,\n",
              " 'out': 69,\n",
              " 'rights': 88,\n",
              " 'directive': 31,\n",
              " 'principles': 79,\n",
              " 'citizens': 18,\n",
              " 'based': 11,\n",
              " 'on': 67,\n",
              " 'proposal': 83,\n",
              " 'suggested': 97,\n",
              " 'by': 14,\n",
              " 'roy': 89,\n",
              " 'it': 53,\n",
              " 'longest': 60,\n",
              " 'written': 107,\n",
              " 'national': 61,\n",
              " 'in': 49,\n",
              " 'world': 106,\n",
              " 'imparts': 48,\n",
              " 'constitutional': 22,\n",
              " 'supremacy': 98,\n",
              " 'not': 64,\n",
              " 'parliamentary': 72,\n",
              " 'since': 92,\n",
              " 'was': 104,\n",
              " 'created': 24,\n",
              " 'constituent': 20,\n",
              " 'assembly': 7,\n",
              " 'rather': 84,\n",
              " 'than': 100,\n",
              " 'parliament': 71,\n",
              " 'adopted': 2,\n",
              " 'its': 54,\n",
              " 'people': 73,\n",
              " 'with': 105,\n",
              " 'declaration': 26,\n",
              " 'preamble': 77,\n",
              " 'cannot': 15,\n",
              " 'override': 70,\n",
              " 'ambedkar': 3,\n",
              " 'postage': 75,\n",
              " 'stamp': 95,\n",
              " 'november': 65,\n",
              " 'became': 12,\n",
              " 'effective': 36,\n",
              " 'january': 55,\n",
              " 'replaced': 86,\n",
              " 'act': 0,\n",
              " 'as': 6,\n",
              " 'country': 23,\n",
              " 'governing': 45,\n",
              " 'dominion': 33,\n",
              " 'republic': 87,\n",
              " 'to': 103,\n",
              " 'ensure': 38,\n",
              " 'autochthony': 10,\n",
              " 'framers': 41,\n",
              " 'repealed': 85,\n",
              " 'prior': 80,\n",
              " 'acts': 1,\n",
              " 'british': 13,\n",
              " 'article': 5,\n",
              " 'celebrates': 17,\n",
              " 'day': 25,\n",
              " 'declares': 27,\n",
              " 'sovereign': 94,\n",
              " 'socialist': 93,\n",
              " 'secular': 90,\n",
              " 'democratic': 30,\n",
              " 'assures': 8,\n",
              " 'justice': 56,\n",
              " 'equality': 39,\n",
              " 'liberty': 59,\n",
              " 'endeavours': 37,\n",
              " 'promote': 82,\n",
              " 'fraternity': 43,\n",
              " 'original': 68,\n",
              " 'preserved': 78,\n",
              " 'nitrogen': 63,\n",
              " 'filled': 40,\n",
              " 'case': 16,\n",
              " 'at': 9,\n",
              " 'house': 47,\n",
              " 'new': 62,\n",
              " 'delhi': 28}"
            ]
          },
          "metadata": {},
          "execution_count": 35
        }
      ]
    },
    {
      "cell_type": "code",
      "source": [
        "corpus1[0]"
      ],
      "metadata": {
        "colab": {
          "base_uri": "https://localhost:8080/",
          "height": 35
        },
        "id": "bxIOG4WQu_j7",
        "outputId": "f633c1a4-6d42-4302-8ded-2d29d9961a9d"
      },
      "execution_count": null,
      "outputs": [
        {
          "output_type": "execute_result",
          "data": {
            "text/plain": [
              "' the constitution of india is the supreme law of india '"
            ],
            "application/vnd.google.colaboratory.intrinsic+json": {
              "type": "string"
            }
          },
          "metadata": {},
          "execution_count": 36
        }
      ]
    },
    {
      "cell_type": "code",
      "source": [
        "x[0].toarray()"
      ],
      "metadata": {
        "colab": {
          "base_uri": "https://localhost:8080/"
        },
        "id": "FGC2uLJYvQ9c",
        "outputId": "f4d365f5-b78e-405c-b7ef-f22d073c3e28"
      },
      "execution_count": null,
      "outputs": [
        {
          "output_type": "execute_result",
          "data": {
            "text/plain": [
              "array([[0, 0, 0, 0, 0, 0, 0, 0, 0, 0, 0, 0, 0, 0, 0, 0, 0, 0, 0, 0, 0, 1,\n",
              "        0, 0, 0, 0, 0, 0, 0, 0, 0, 0, 0, 0, 0, 0, 0, 0, 0, 0, 0, 0, 0, 0,\n",
              "        0, 0, 0, 0, 0, 0, 2, 0, 1, 0, 0, 0, 0, 1, 0, 0, 0, 0, 0, 0, 0, 0,\n",
              "        2, 0, 0, 0, 0, 0, 0, 0, 0, 0, 0, 0, 0, 0, 0, 0, 0, 0, 0, 0, 0, 0,\n",
              "        0, 0, 0, 0, 0, 0, 0, 0, 0, 0, 0, 1, 0, 0, 2, 0, 0, 0, 0, 0]])"
            ]
          },
          "metadata": {},
          "execution_count": 37
        }
      ]
    },
    {
      "cell_type": "code",
      "source": [
        "#Bag of words with only binary\n",
        "from sklearn.feature_extraction.text import CountVectorizer\n",
        "cv=CountVectorizer(binary=True)"
      ],
      "metadata": {
        "id": "G4wSQdFJvZ8I"
      },
      "execution_count": null,
      "outputs": []
    },
    {
      "cell_type": "code",
      "source": [
        "x1=cv.fit_transform(corpus1)"
      ],
      "metadata": {
        "id": "LYu95VXqvzq-"
      },
      "execution_count": null,
      "outputs": []
    },
    {
      "cell_type": "code",
      "source": [
        "x1[0].toarray()"
      ],
      "metadata": {
        "colab": {
          "base_uri": "https://localhost:8080/"
        },
        "id": "VcvbyKmTv5dF",
        "outputId": "2304b14e-bfff-4c83-e4b1-41af5afc26be"
      },
      "execution_count": null,
      "outputs": [
        {
          "output_type": "execute_result",
          "data": {
            "text/plain": [
              "array([[0, 0, 0, 0, 0, 0, 0, 0, 0, 0, 0, 0, 0, 0, 0, 0, 0, 0, 0, 0, 0, 1,\n",
              "        0, 0, 0, 0, 0, 0, 0, 0, 0, 0, 0, 0, 0, 0, 0, 0, 0, 0, 0, 0, 0, 0,\n",
              "        0, 0, 0, 0, 0, 0, 1, 0, 1, 0, 0, 0, 0, 1, 0, 0, 0, 0, 0, 0, 0, 0,\n",
              "        1, 0, 0, 0, 0, 0, 0, 0, 0, 0, 0, 0, 0, 0, 0, 0, 0, 0, 0, 0, 0, 0,\n",
              "        0, 0, 0, 0, 0, 0, 0, 0, 0, 0, 0, 1, 0, 0, 1, 0, 0, 0, 0, 0]])"
            ]
          },
          "metadata": {},
          "execution_count": 40
        }
      ]
    },
    {
      "cell_type": "code",
      "source": [
        "paragraph1=\"\"\"\n",
        "The Constitution of India is the supreme law of India.[2][3] The document lays down the framework that demarcates fundamental political code, structure, procedures, powers, and duties of government institutions and sets out fundamental rights, directive principles, and the duties of citizens, based on the proposal suggested by M. N. Roy. It is the longest written national constitution in the world.[4][5][6]\n",
        "\n",
        "It imparts constitutional supremacy (not parliamentary supremacy, since it was created by a constituent assembly rather than Parliament) and was adopted by its people with a declaration in its preamble. Parliament cannot override the constitution.[7]\n",
        "\n",
        "\n",
        "B. R. Ambedkar and Constitution of India on a 2015 postage stamp of India\n",
        "It was adopted by the Constituent Assembly of India on 26 November 1949 and became effective on 26 January 1950.[8] The constitution replaced the Government of India Act 1935 as the country's fundamental governing document, and the Dominion of India became the Republic of India. To ensure constitutional autochthony, its framers repealed prior acts of the British parliament in Article 395.[9] India celebrates its constitution on 26 January as Republic Day.[10]\n",
        "\n",
        "The constitution declares India a sovereign, socialist, secular,[11] and democratic republic, assures its citizens justice, equality, and liberty, and endeavours to promote fraternity.[12] The original 1950 constitution is preserved in a nitrogen-filled case at the Parliament House in New Delhi.[13]\n",
        "\"\"\""
      ],
      "metadata": {
        "id": "OpyvrOh9hGx9"
      },
      "execution_count": 25,
      "outputs": []
    },
    {
      "cell_type": "code",
      "source": [
        "from sklearn.feature_extraction.text import CountVectorizer\n",
        "from sklearn.feature_extraction.text import CountVectorizer"
      ],
      "metadata": {
        "id": "tYN5yj7Cf4Kn"
      },
      "execution_count": 26,
      "outputs": []
    },
    {
      "cell_type": "code",
      "source": [
        "import re\n",
        "from nltk.stem import WordNetLemmatizer\n",
        "lemmatizer=WordNetLemmatizer()\n",
        "\n",
        "corpus=[]\n",
        "\n",
        "sentances=nltk.sent_tokenize(paragraph1)\n",
        "\n",
        "for i in range(len(sentances)):\n",
        "  reviwe=re.sub('[^a-zA-Z]',' ',sentances[i])\n",
        "  reviwe=reviwe.lower()\n",
        "  reviwe=reviwe.split()\n",
        "  reviwe=[lemmatizer.lemmatize(word) for word in reviwe if not word in stopwords.words('english')]\n",
        "  reviwe=' '.join(reviwe)\n",
        "  corpus.append(reviwe)\n"
      ],
      "metadata": {
        "id": "_3D8DueGv819"
      },
      "execution_count": 29,
      "outputs": []
    },
    {
      "cell_type": "code",
      "source": [
        "corpus"
      ],
      "metadata": {
        "colab": {
          "base_uri": "https://localhost:8080/"
        },
        "id": "yx-2hMOJx9Te",
        "outputId": "ab437130-348a-4c0c-b520-354ec5c7addc"
      },
      "execution_count": 30,
      "outputs": [
        {
          "output_type": "execute_result",
          "data": {
            "text/plain": [
              "['constitution india supreme law india',\n",
              " 'document lay framework demarcates fundamental political code structure procedure power duty government institution set fundamental right directive principle duty citizen based proposal suggested n roy',\n",
              " 'longest written national constitution world',\n",
              " 'imparts constitutional supremacy parliamentary supremacy since created constituent assembly rather parliament adopted people declaration preamble',\n",
              " 'parliament cannot override constitution',\n",
              " 'b r ambedkar constitution india postage stamp india adopted constituent assembly india november became effective january',\n",
              " 'constitution replaced government india act country fundamental governing document dominion india became republic india',\n",
              " 'ensure constitutional autochthony framer repealed prior act british parliament article',\n",
              " 'india celebrates constitution january republic day',\n",
              " 'constitution declares india sovereign socialist secular democratic republic assures citizen justice equality liberty endeavour promote fraternity',\n",
              " 'original constitution preserved nitrogen filled case parliament house new delhi',\n",
              " '']"
            ]
          },
          "metadata": {},
          "execution_count": 30
        }
      ]
    },
    {
      "cell_type": "code",
      "source": [],
      "metadata": {
        "id": "7lBCKqKegYa8"
      },
      "execution_count": null,
      "outputs": []
    },
    {
      "cell_type": "code",
      "source": [
        "#Bag of words with only binary\n",
        "from sklearn.feature_extraction.text import CountVectorizer\n",
        "cv=CountVectorizer(binary=True)\n",
        "x=cv.fit_transform(corpus)"
      ],
      "metadata": {
        "id": "4Lx27NMcyAYE"
      },
      "execution_count": 35,
      "outputs": []
    },
    {
      "cell_type": "code",
      "source": [
        "x[0].toarray()"
      ],
      "metadata": {
        "colab": {
          "base_uri": "https://localhost:8080/"
        },
        "id": "wjitCZUkyRU4",
        "outputId": "62bcfb09-487e-4940-cf08-cccfa57a2199"
      },
      "execution_count": 33,
      "outputs": [
        {
          "output_type": "execute_result",
          "data": {
            "text/plain": [
              "array([[0, 0, 0, 0, 0, 0, 0, 0, 0, 0, 0, 0, 0, 0, 0, 0, 1, 0, 0, 0, 0, 0,\n",
              "        0, 0, 0, 0, 0, 0, 0, 0, 0, 0, 0, 0, 0, 0, 0, 0, 0, 0, 0, 0, 0, 1,\n",
              "        0, 0, 0, 1, 0, 0, 0, 0, 0, 0, 0, 0, 0, 0, 0, 0, 0, 0, 0, 0, 0, 0,\n",
              "        0, 0, 0, 0, 0, 0, 0, 0, 0, 0, 0, 0, 0, 0, 0, 0, 0, 0, 0, 1, 0, 0]])"
            ]
          },
          "metadata": {},
          "execution_count": 33
        }
      ]
    },
    {
      "cell_type": "code",
      "source": [
        "cv.vocabulary_"
      ],
      "metadata": {
        "id": "7QYE5qZRyTR3",
        "colab": {
          "base_uri": "https://localhost:8080/"
        },
        "outputId": "33b154bd-5221-4024-f497-7ad735a0394b"
      },
      "execution_count": 34,
      "outputs": [
        {
          "output_type": "execute_result",
          "data": {
            "text/plain": [
              "{'constitution': 16,\n",
              " 'india': 43,\n",
              " 'supreme': 85,\n",
              " 'law': 47,\n",
              " 'document': 27,\n",
              " 'lay': 48,\n",
              " 'framework': 36,\n",
              " 'demarcates': 24,\n",
              " 'fundamental': 38,\n",
              " 'political': 60,\n",
              " 'code': 14,\n",
              " 'structure': 82,\n",
              " 'procedure': 67,\n",
              " 'power': 62,\n",
              " 'duty': 29,\n",
              " 'government': 40,\n",
              " 'institution': 44,\n",
              " 'set': 77,\n",
              " 'right': 74,\n",
              " 'directive': 26,\n",
              " 'principle': 65,\n",
              " 'citizen': 13,\n",
              " 'based': 7,\n",
              " 'proposal': 69,\n",
              " 'suggested': 83,\n",
              " 'roy': 75,\n",
              " 'longest': 50,\n",
              " 'written': 87,\n",
              " 'national': 51,\n",
              " 'world': 86,\n",
              " 'imparts': 42,\n",
              " 'constitutional': 17,\n",
              " 'supremacy': 84,\n",
              " 'parliamentary': 58,\n",
              " 'since': 78,\n",
              " 'created': 19,\n",
              " 'constituent': 15,\n",
              " 'assembly': 4,\n",
              " 'rather': 70,\n",
              " 'parliament': 57,\n",
              " 'adopted': 1,\n",
              " 'people': 59,\n",
              " 'declaration': 21,\n",
              " 'preamble': 63,\n",
              " 'cannot': 10,\n",
              " 'override': 56,\n",
              " 'ambedkar': 2,\n",
              " 'postage': 61,\n",
              " 'stamp': 81,\n",
              " 'november': 54,\n",
              " 'became': 8,\n",
              " 'effective': 30,\n",
              " 'january': 45,\n",
              " 'replaced': 72,\n",
              " 'act': 0,\n",
              " 'country': 18,\n",
              " 'governing': 39,\n",
              " 'dominion': 28,\n",
              " 'republic': 73,\n",
              " 'ensure': 32,\n",
              " 'autochthony': 6,\n",
              " 'framer': 35,\n",
              " 'repealed': 71,\n",
              " 'prior': 66,\n",
              " 'british': 9,\n",
              " 'article': 3,\n",
              " 'celebrates': 12,\n",
              " 'day': 20,\n",
              " 'declares': 22,\n",
              " 'sovereign': 80,\n",
              " 'socialist': 79,\n",
              " 'secular': 76,\n",
              " 'democratic': 25,\n",
              " 'assures': 5,\n",
              " 'justice': 46,\n",
              " 'equality': 33,\n",
              " 'liberty': 49,\n",
              " 'endeavour': 31,\n",
              " 'promote': 68,\n",
              " 'fraternity': 37,\n",
              " 'original': 55,\n",
              " 'preserved': 64,\n",
              " 'nitrogen': 53,\n",
              " 'filled': 34,\n",
              " 'case': 11,\n",
              " 'house': 41,\n",
              " 'new': 52,\n",
              " 'delhi': 23}"
            ]
          },
          "metadata": {},
          "execution_count": 34
        }
      ]
    },
    {
      "cell_type": "code",
      "source": [
        "#Bag of words with only binary and bi-gram\n",
        "from sklearn.feature_extraction.text import CountVectorizer\n",
        "cv=CountVectorizer(binary=True,ngram_range=(1,2))\n",
        "x=cv.fit_transform(corpus)"
      ],
      "metadata": {
        "id": "fo6SZBG2h7J_"
      },
      "execution_count": 40,
      "outputs": []
    },
    {
      "cell_type": "code",
      "source": [
        "cv.vocabulary_"
      ],
      "metadata": {
        "colab": {
          "base_uri": "https://localhost:8080/"
        },
        "id": "SKPCS7eqiQrP",
        "outputId": "1429bea2-f10f-4393-bd22-6478ba7f2ddf"
      },
      "execution_count": 39,
      "outputs": [
        {
          "output_type": "execute_result",
          "data": {
            "text/plain": [
              "{'constitution': 36,\n",
              " 'india': 98,\n",
              " 'supreme': 193,\n",
              " 'law': 113,\n",
              " 'constitution india': 38,\n",
              " 'india supreme': 106,\n",
              " 'supreme law': 194,\n",
              " 'law india': 114,\n",
              " 'document': 62,\n",
              " 'lay': 115,\n",
              " 'framework': 82,\n",
              " 'demarcates': 56,\n",
              " 'fundamental': 85,\n",
              " 'political': 142,\n",
              " 'code': 32,\n",
              " 'structure': 186,\n",
              " 'procedure': 155,\n",
              " 'power': 146,\n",
              " 'duty': 67,\n",
              " 'government': 91,\n",
              " 'institution': 107,\n",
              " 'set': 176,\n",
              " 'right': 171,\n",
              " 'directive': 60,\n",
              " 'principle': 151,\n",
              " 'citizen': 29,\n",
              " 'based': 16,\n",
              " 'proposal': 159,\n",
              " 'suggested': 188,\n",
              " 'roy': 173,\n",
              " 'document lay': 64,\n",
              " 'lay framework': 116,\n",
              " 'framework demarcates': 83,\n",
              " 'demarcates fundamental': 57,\n",
              " 'fundamental political': 87,\n",
              " 'political code': 143,\n",
              " 'code structure': 33,\n",
              " 'structure procedure': 187,\n",
              " 'procedure power': 156,\n",
              " 'power duty': 147,\n",
              " 'duty government': 69,\n",
              " 'government institution': 93,\n",
              " 'institution set': 108,\n",
              " 'set fundamental': 177,\n",
              " 'fundamental right': 88,\n",
              " 'right directive': 172,\n",
              " 'directive principle': 61,\n",
              " 'principle duty': 152,\n",
              " 'duty citizen': 68,\n",
              " 'citizen based': 30,\n",
              " 'based proposal': 17,\n",
              " 'proposal suggested': 160,\n",
              " 'suggested roy': 189,\n",
              " 'longest': 119,\n",
              " 'written': 196,\n",
              " 'national': 121,\n",
              " 'world': 195,\n",
              " 'longest written': 120,\n",
              " 'written national': 197,\n",
              " 'national constitution': 122,\n",
              " 'constitution world': 42,\n",
              " 'imparts': 96,\n",
              " 'constitutional': 43,\n",
              " 'supremacy': 190,\n",
              " 'parliamentary': 138,\n",
              " 'since': 178,\n",
              " 'created': 48,\n",
              " 'constituent': 34,\n",
              " 'assembly': 9,\n",
              " 'rather': 161,\n",
              " 'parliament': 133,\n",
              " 'adopted': 3,\n",
              " 'people': 140,\n",
              " 'declaration': 51,\n",
              " 'preamble': 148,\n",
              " 'imparts constitutional': 97,\n",
              " 'constitutional supremacy': 45,\n",
              " 'supremacy parliamentary': 191,\n",
              " 'parliamentary supremacy': 139,\n",
              " 'supremacy since': 192,\n",
              " 'since created': 179,\n",
              " 'created constituent': 49,\n",
              " 'constituent assembly': 35,\n",
              " 'assembly rather': 11,\n",
              " 'rather parliament': 162,\n",
              " 'parliament adopted': 134,\n",
              " 'adopted people': 5,\n",
              " 'people declaration': 141,\n",
              " 'declaration preamble': 52,\n",
              " 'cannot': 23,\n",
              " 'override': 131,\n",
              " 'parliament cannot': 136,\n",
              " 'cannot override': 24,\n",
              " 'override constitution': 132,\n",
              " 'ambedkar': 6,\n",
              " 'postage': 144,\n",
              " 'stamp': 184,\n",
              " 'november': 127,\n",
              " 'became': 18,\n",
              " 'effective': 70,\n",
              " 'january': 109,\n",
              " 'ambedkar constitution': 7,\n",
              " 'india postage': 104,\n",
              " 'postage stamp': 145,\n",
              " 'stamp india': 185,\n",
              " 'india adopted': 100,\n",
              " 'adopted constituent': 4,\n",
              " 'assembly india': 10,\n",
              " 'india november': 103,\n",
              " 'november became': 128,\n",
              " 'became effective': 19,\n",
              " 'effective january': 71,\n",
              " 'replaced': 165,\n",
              " 'act': 0,\n",
              " 'country': 46,\n",
              " 'governing': 89,\n",
              " 'dominion': 65,\n",
              " 'republic': 167,\n",
              " 'constitution replaced': 41,\n",
              " 'replaced government': 166,\n",
              " 'government india': 92,\n",
              " 'india act': 99,\n",
              " 'act country': 2,\n",
              " 'country fundamental': 47,\n",
              " 'fundamental governing': 86,\n",
              " 'governing document': 90,\n",
              " 'document dominion': 63,\n",
              " 'dominion india': 66,\n",
              " 'india became': 101,\n",
              " 'became republic': 20,\n",
              " 'republic india': 170,\n",
              " 'ensure': 74,\n",
              " 'autochthony': 14,\n",
              " 'framer': 80,\n",
              " 'repealed': 163,\n",
              " 'prior': 153,\n",
              " 'british': 21,\n",
              " 'article': 8,\n",
              " 'ensure constitutional': 75,\n",
              " 'constitutional autochthony': 44,\n",
              " 'autochthony framer': 15,\n",
              " 'framer repealed': 81,\n",
              " 'repealed prior': 164,\n",
              " 'prior act': 154,\n",
              " 'act british': 1,\n",
              " 'british parliament': 22,\n",
              " 'parliament article': 135,\n",
              " 'celebrates': 27,\n",
              " 'day': 50,\n",
              " 'india celebrates': 102,\n",
              " 'celebrates constitution': 28,\n",
              " 'constitution january': 39,\n",
              " 'january republic': 110,\n",
              " 'republic day': 169,\n",
              " 'declares': 53,\n",
              " 'sovereign': 182,\n",
              " 'socialist': 180,\n",
              " 'secular': 174,\n",
              " 'democratic': 58,\n",
              " 'assures': 12,\n",
              " 'justice': 111,\n",
              " 'equality': 76,\n",
              " 'liberty': 117,\n",
              " 'endeavour': 72,\n",
              " 'promote': 157,\n",
              " 'fraternity': 84,\n",
              " 'constitution declares': 37,\n",
              " 'declares india': 54,\n",
              " 'india sovereign': 105,\n",
              " 'sovereign socialist': 183,\n",
              " 'socialist secular': 181,\n",
              " 'secular democratic': 175,\n",
              " 'democratic republic': 59,\n",
              " 'republic assures': 168,\n",
              " 'assures citizen': 13,\n",
              " 'citizen justice': 31,\n",
              " 'justice equality': 112,\n",
              " 'equality liberty': 77,\n",
              " 'liberty endeavour': 118,\n",
              " 'endeavour promote': 73,\n",
              " 'promote fraternity': 158,\n",
              " 'original': 129,\n",
              " 'preserved': 149,\n",
              " 'nitrogen': 125,\n",
              " 'filled': 78,\n",
              " 'case': 25,\n",
              " 'house': 94,\n",
              " 'new': 123,\n",
              " 'delhi': 55,\n",
              " 'original constitution': 130,\n",
              " 'constitution preserved': 40,\n",
              " 'preserved nitrogen': 150,\n",
              " 'nitrogen filled': 126,\n",
              " 'filled case': 79,\n",
              " 'case parliament': 26,\n",
              " 'parliament house': 137,\n",
              " 'house new': 95,\n",
              " 'new delhi': 124}"
            ]
          },
          "metadata": {},
          "execution_count": 39
        }
      ]
    },
    {
      "cell_type": "code",
      "source": [
        "x[0].toarray()"
      ],
      "metadata": {
        "colab": {
          "base_uri": "https://localhost:8080/"
        },
        "id": "m1S1Lq42iTgo",
        "outputId": "49ea1139-ef57-4b4c-82bc-d83fdf99fb3f"
      },
      "execution_count": 42,
      "outputs": [
        {
          "output_type": "execute_result",
          "data": {
            "text/plain": [
              "array([[0, 0, 0, 0, 0, 0, 0, 0, 0, 0, 0, 0, 0, 0, 0, 0, 0, 0, 0, 0, 0, 0,\n",
              "        0, 0, 0, 0, 0, 0, 0, 0, 0, 0, 0, 0, 0, 0, 1, 0, 1, 0, 0, 0, 0, 0,\n",
              "        0, 0, 0, 0, 0, 0, 0, 0, 0, 0, 0, 0, 0, 0, 0, 0, 0, 0, 0, 0, 0, 0,\n",
              "        0, 0, 0, 0, 0, 0, 0, 0, 0, 0, 0, 0, 0, 0, 0, 0, 0, 0, 0, 0, 0, 0,\n",
              "        0, 0, 0, 0, 0, 0, 0, 0, 0, 0, 1, 0, 0, 0, 0, 0, 0, 0, 1, 0, 0, 0,\n",
              "        0, 0, 0, 1, 1, 0, 0, 0, 0, 0, 0, 0, 0, 0, 0, 0, 0, 0, 0, 0, 0, 0,\n",
              "        0, 0, 0, 0, 0, 0, 0, 0, 0, 0, 0, 0, 0, 0, 0, 0, 0, 0, 0, 0, 0, 0,\n",
              "        0, 0, 0, 0, 0, 0, 0, 0, 0, 0, 0, 0, 0, 0, 0, 0, 0, 0, 0, 0, 0, 0,\n",
              "        0, 0, 0, 0, 0, 0, 0, 0, 0, 0, 0, 0, 0, 0, 0, 0, 0, 1, 1, 0, 0, 0]])"
            ]
          },
          "metadata": {},
          "execution_count": 42
        }
      ]
    },
    {
      "cell_type": "code",
      "source": [
        "#TF-IDF\n",
        "\n",
        "from sklearn.feature_extraction.text import TfidfVectorizer\n",
        "cv=TfidfVectorizer()\n",
        "x=cv.fit_transform(corpus)\n"
      ],
      "metadata": {
        "id": "jTwEaCyNimjx"
      },
      "execution_count": 45,
      "outputs": []
    },
    {
      "cell_type": "code",
      "source": [
        "x[0].toarray()"
      ],
      "metadata": {
        "colab": {
          "base_uri": "https://localhost:8080/"
        },
        "id": "YaY2xlBJjIu0",
        "outputId": "9ae073d0-a89b-44ba-c3ca-13554f469b5f"
      },
      "execution_count": 44,
      "outputs": [
        {
          "output_type": "execute_result",
          "data": {
            "text/plain": [
              "array([[0.        , 0.        , 0.        , 0.        , 0.        ,\n",
              "        0.        , 0.        , 0.        , 0.        , 0.        ,\n",
              "        0.        , 0.        , 0.        , 0.        , 0.        ,\n",
              "        0.        , 0.24588084, 0.        , 0.        , 0.        ,\n",
              "        0.        , 0.        , 0.        , 0.        , 0.        ,\n",
              "        0.        , 0.        , 0.        , 0.        , 0.        ,\n",
              "        0.        , 0.        , 0.        , 0.        , 0.        ,\n",
              "        0.        , 0.        , 0.        , 0.        , 0.        ,\n",
              "        0.        , 0.        , 0.        , 0.63754555, 0.        ,\n",
              "        0.        , 0.        , 0.51627429, 0.        , 0.        ,\n",
              "        0.        , 0.        , 0.        , 0.        , 0.        ,\n",
              "        0.        , 0.        , 0.        , 0.        , 0.        ,\n",
              "        0.        , 0.        , 0.        , 0.        , 0.        ,\n",
              "        0.        , 0.        , 0.        , 0.        , 0.        ,\n",
              "        0.        , 0.        , 0.        , 0.        , 0.        ,\n",
              "        0.        , 0.        , 0.        , 0.        , 0.        ,\n",
              "        0.        , 0.        , 0.        , 0.        , 0.        ,\n",
              "        0.51627429, 0.        , 0.        ]])"
            ]
          },
          "metadata": {},
          "execution_count": 44
        }
      ]
    },
    {
      "cell_type": "code",
      "source": [
        "cv.vocabulary_"
      ],
      "metadata": {
        "colab": {
          "base_uri": "https://localhost:8080/"
        },
        "id": "SBJ6ZqVVjNCV",
        "outputId": "606c1ea6-ce6a-4966-aaea-1f45126d00ed"
      },
      "execution_count": 46,
      "outputs": [
        {
          "output_type": "execute_result",
          "data": {
            "text/plain": [
              "{'constitution': 16,\n",
              " 'india': 43,\n",
              " 'supreme': 85,\n",
              " 'law': 47,\n",
              " 'document': 27,\n",
              " 'lay': 48,\n",
              " 'framework': 36,\n",
              " 'demarcates': 24,\n",
              " 'fundamental': 38,\n",
              " 'political': 60,\n",
              " 'code': 14,\n",
              " 'structure': 82,\n",
              " 'procedure': 67,\n",
              " 'power': 62,\n",
              " 'duty': 29,\n",
              " 'government': 40,\n",
              " 'institution': 44,\n",
              " 'set': 77,\n",
              " 'right': 74,\n",
              " 'directive': 26,\n",
              " 'principle': 65,\n",
              " 'citizen': 13,\n",
              " 'based': 7,\n",
              " 'proposal': 69,\n",
              " 'suggested': 83,\n",
              " 'roy': 75,\n",
              " 'longest': 50,\n",
              " 'written': 87,\n",
              " 'national': 51,\n",
              " 'world': 86,\n",
              " 'imparts': 42,\n",
              " 'constitutional': 17,\n",
              " 'supremacy': 84,\n",
              " 'parliamentary': 58,\n",
              " 'since': 78,\n",
              " 'created': 19,\n",
              " 'constituent': 15,\n",
              " 'assembly': 4,\n",
              " 'rather': 70,\n",
              " 'parliament': 57,\n",
              " 'adopted': 1,\n",
              " 'people': 59,\n",
              " 'declaration': 21,\n",
              " 'preamble': 63,\n",
              " 'cannot': 10,\n",
              " 'override': 56,\n",
              " 'ambedkar': 2,\n",
              " 'postage': 61,\n",
              " 'stamp': 81,\n",
              " 'november': 54,\n",
              " 'became': 8,\n",
              " 'effective': 30,\n",
              " 'january': 45,\n",
              " 'replaced': 72,\n",
              " 'act': 0,\n",
              " 'country': 18,\n",
              " 'governing': 39,\n",
              " 'dominion': 28,\n",
              " 'republic': 73,\n",
              " 'ensure': 32,\n",
              " 'autochthony': 6,\n",
              " 'framer': 35,\n",
              " 'repealed': 71,\n",
              " 'prior': 66,\n",
              " 'british': 9,\n",
              " 'article': 3,\n",
              " 'celebrates': 12,\n",
              " 'day': 20,\n",
              " 'declares': 22,\n",
              " 'sovereign': 80,\n",
              " 'socialist': 79,\n",
              " 'secular': 76,\n",
              " 'democratic': 25,\n",
              " 'assures': 5,\n",
              " 'justice': 46,\n",
              " 'equality': 33,\n",
              " 'liberty': 49,\n",
              " 'endeavour': 31,\n",
              " 'promote': 68,\n",
              " 'fraternity': 37,\n",
              " 'original': 55,\n",
              " 'preserved': 64,\n",
              " 'nitrogen': 53,\n",
              " 'filled': 34,\n",
              " 'case': 11,\n",
              " 'house': 41,\n",
              " 'new': 52,\n",
              " 'delhi': 23}"
            ]
          },
          "metadata": {},
          "execution_count": 46
        }
      ]
    },
    {
      "cell_type": "code",
      "source": [
        "#TF-IDF with N-gram\n",
        "from sklearn.feature_extraction.text import TfidfVectorizer\n",
        "cv=TfidfVectorizer(ngram_range=(1,2))\n",
        "x=cv.fit_transform(corpus)\n"
      ],
      "metadata": {
        "id": "PIYjJgmJjaPo"
      },
      "execution_count": 47,
      "outputs": []
    },
    {
      "cell_type": "code",
      "source": [
        "x[0].toarray()"
      ],
      "metadata": {
        "colab": {
          "base_uri": "https://localhost:8080/"
        },
        "id": "Pvc2SL1ejyrh",
        "outputId": "d6fb6bff-f709-42e2-cac8-995174666d88"
      },
      "execution_count": 48,
      "outputs": [
        {
          "output_type": "execute_result",
          "data": {
            "text/plain": [
              "array([[0.        , 0.        , 0.        , 0.        , 0.        ,\n",
              "        0.        , 0.        , 0.        , 0.        , 0.        ,\n",
              "        0.        , 0.        , 0.        , 0.        , 0.        ,\n",
              "        0.        , 0.        , 0.        , 0.        , 0.        ,\n",
              "        0.        , 0.        , 0.        , 0.        , 0.        ,\n",
              "        0.        , 0.        , 0.        , 0.        , 0.        ,\n",
              "        0.        , 0.        , 0.        , 0.        , 0.        ,\n",
              "        0.        , 0.17402918, 0.        , 0.31381652, 0.        ,\n",
              "        0.        , 0.        , 0.        , 0.        , 0.        ,\n",
              "        0.        , 0.        , 0.        , 0.        , 0.        ,\n",
              "        0.        , 0.        , 0.        , 0.        , 0.        ,\n",
              "        0.        , 0.        , 0.        , 0.        , 0.        ,\n",
              "        0.        , 0.        , 0.        , 0.        , 0.        ,\n",
              "        0.        , 0.        , 0.        , 0.        , 0.        ,\n",
              "        0.        , 0.        , 0.        , 0.        , 0.        ,\n",
              "        0.        , 0.        , 0.        , 0.        , 0.        ,\n",
              "        0.        , 0.        , 0.        , 0.        , 0.        ,\n",
              "        0.        , 0.        , 0.        , 0.        , 0.        ,\n",
              "        0.        , 0.        , 0.        , 0.        , 0.        ,\n",
              "        0.        , 0.        , 0.        , 0.45124106, 0.        ,\n",
              "        0.        , 0.        , 0.        , 0.        , 0.        ,\n",
              "        0.        , 0.36540787, 0.        , 0.        , 0.        ,\n",
              "        0.        , 0.        , 0.        , 0.36540787, 0.36540787,\n",
              "        0.        , 0.        , 0.        , 0.        , 0.        ,\n",
              "        0.        , 0.        , 0.        , 0.        , 0.        ,\n",
              "        0.        , 0.        , 0.        , 0.        , 0.        ,\n",
              "        0.        , 0.        , 0.        , 0.        , 0.        ,\n",
              "        0.        , 0.        , 0.        , 0.        , 0.        ,\n",
              "        0.        , 0.        , 0.        , 0.        , 0.        ,\n",
              "        0.        , 0.        , 0.        , 0.        , 0.        ,\n",
              "        0.        , 0.        , 0.        , 0.        , 0.        ,\n",
              "        0.        , 0.        , 0.        , 0.        , 0.        ,\n",
              "        0.        , 0.        , 0.        , 0.        , 0.        ,\n",
              "        0.        , 0.        , 0.        , 0.        , 0.        ,\n",
              "        0.        , 0.        , 0.        , 0.        , 0.        ,\n",
              "        0.        , 0.        , 0.        , 0.        , 0.        ,\n",
              "        0.        , 0.        , 0.        , 0.        , 0.        ,\n",
              "        0.        , 0.        , 0.        , 0.        , 0.        ,\n",
              "        0.        , 0.        , 0.        , 0.36540787, 0.36540787,\n",
              "        0.        , 0.        , 0.        ]])"
            ]
          },
          "metadata": {},
          "execution_count": 48
        }
      ]
    },
    {
      "cell_type": "code",
      "source": [
        "cv.vocabulary_"
      ],
      "metadata": {
        "colab": {
          "base_uri": "https://localhost:8080/"
        },
        "id": "ukviky2Kj4Bt",
        "outputId": "01dfbbcc-e535-4dcd-f6ad-af005d70dba0"
      },
      "execution_count": 49,
      "outputs": [
        {
          "output_type": "execute_result",
          "data": {
            "text/plain": [
              "{'constitution': 36,\n",
              " 'india': 98,\n",
              " 'supreme': 193,\n",
              " 'law': 113,\n",
              " 'constitution india': 38,\n",
              " 'india supreme': 106,\n",
              " 'supreme law': 194,\n",
              " 'law india': 114,\n",
              " 'document': 62,\n",
              " 'lay': 115,\n",
              " 'framework': 82,\n",
              " 'demarcates': 56,\n",
              " 'fundamental': 85,\n",
              " 'political': 142,\n",
              " 'code': 32,\n",
              " 'structure': 186,\n",
              " 'procedure': 155,\n",
              " 'power': 146,\n",
              " 'duty': 67,\n",
              " 'government': 91,\n",
              " 'institution': 107,\n",
              " 'set': 176,\n",
              " 'right': 171,\n",
              " 'directive': 60,\n",
              " 'principle': 151,\n",
              " 'citizen': 29,\n",
              " 'based': 16,\n",
              " 'proposal': 159,\n",
              " 'suggested': 188,\n",
              " 'roy': 173,\n",
              " 'document lay': 64,\n",
              " 'lay framework': 116,\n",
              " 'framework demarcates': 83,\n",
              " 'demarcates fundamental': 57,\n",
              " 'fundamental political': 87,\n",
              " 'political code': 143,\n",
              " 'code structure': 33,\n",
              " 'structure procedure': 187,\n",
              " 'procedure power': 156,\n",
              " 'power duty': 147,\n",
              " 'duty government': 69,\n",
              " 'government institution': 93,\n",
              " 'institution set': 108,\n",
              " 'set fundamental': 177,\n",
              " 'fundamental right': 88,\n",
              " 'right directive': 172,\n",
              " 'directive principle': 61,\n",
              " 'principle duty': 152,\n",
              " 'duty citizen': 68,\n",
              " 'citizen based': 30,\n",
              " 'based proposal': 17,\n",
              " 'proposal suggested': 160,\n",
              " 'suggested roy': 189,\n",
              " 'longest': 119,\n",
              " 'written': 196,\n",
              " 'national': 121,\n",
              " 'world': 195,\n",
              " 'longest written': 120,\n",
              " 'written national': 197,\n",
              " 'national constitution': 122,\n",
              " 'constitution world': 42,\n",
              " 'imparts': 96,\n",
              " 'constitutional': 43,\n",
              " 'supremacy': 190,\n",
              " 'parliamentary': 138,\n",
              " 'since': 178,\n",
              " 'created': 48,\n",
              " 'constituent': 34,\n",
              " 'assembly': 9,\n",
              " 'rather': 161,\n",
              " 'parliament': 133,\n",
              " 'adopted': 3,\n",
              " 'people': 140,\n",
              " 'declaration': 51,\n",
              " 'preamble': 148,\n",
              " 'imparts constitutional': 97,\n",
              " 'constitutional supremacy': 45,\n",
              " 'supremacy parliamentary': 191,\n",
              " 'parliamentary supremacy': 139,\n",
              " 'supremacy since': 192,\n",
              " 'since created': 179,\n",
              " 'created constituent': 49,\n",
              " 'constituent assembly': 35,\n",
              " 'assembly rather': 11,\n",
              " 'rather parliament': 162,\n",
              " 'parliament adopted': 134,\n",
              " 'adopted people': 5,\n",
              " 'people declaration': 141,\n",
              " 'declaration preamble': 52,\n",
              " 'cannot': 23,\n",
              " 'override': 131,\n",
              " 'parliament cannot': 136,\n",
              " 'cannot override': 24,\n",
              " 'override constitution': 132,\n",
              " 'ambedkar': 6,\n",
              " 'postage': 144,\n",
              " 'stamp': 184,\n",
              " 'november': 127,\n",
              " 'became': 18,\n",
              " 'effective': 70,\n",
              " 'january': 109,\n",
              " 'ambedkar constitution': 7,\n",
              " 'india postage': 104,\n",
              " 'postage stamp': 145,\n",
              " 'stamp india': 185,\n",
              " 'india adopted': 100,\n",
              " 'adopted constituent': 4,\n",
              " 'assembly india': 10,\n",
              " 'india november': 103,\n",
              " 'november became': 128,\n",
              " 'became effective': 19,\n",
              " 'effective january': 71,\n",
              " 'replaced': 165,\n",
              " 'act': 0,\n",
              " 'country': 46,\n",
              " 'governing': 89,\n",
              " 'dominion': 65,\n",
              " 'republic': 167,\n",
              " 'constitution replaced': 41,\n",
              " 'replaced government': 166,\n",
              " 'government india': 92,\n",
              " 'india act': 99,\n",
              " 'act country': 2,\n",
              " 'country fundamental': 47,\n",
              " 'fundamental governing': 86,\n",
              " 'governing document': 90,\n",
              " 'document dominion': 63,\n",
              " 'dominion india': 66,\n",
              " 'india became': 101,\n",
              " 'became republic': 20,\n",
              " 'republic india': 170,\n",
              " 'ensure': 74,\n",
              " 'autochthony': 14,\n",
              " 'framer': 80,\n",
              " 'repealed': 163,\n",
              " 'prior': 153,\n",
              " 'british': 21,\n",
              " 'article': 8,\n",
              " 'ensure constitutional': 75,\n",
              " 'constitutional autochthony': 44,\n",
              " 'autochthony framer': 15,\n",
              " 'framer repealed': 81,\n",
              " 'repealed prior': 164,\n",
              " 'prior act': 154,\n",
              " 'act british': 1,\n",
              " 'british parliament': 22,\n",
              " 'parliament article': 135,\n",
              " 'celebrates': 27,\n",
              " 'day': 50,\n",
              " 'india celebrates': 102,\n",
              " 'celebrates constitution': 28,\n",
              " 'constitution january': 39,\n",
              " 'january republic': 110,\n",
              " 'republic day': 169,\n",
              " 'declares': 53,\n",
              " 'sovereign': 182,\n",
              " 'socialist': 180,\n",
              " 'secular': 174,\n",
              " 'democratic': 58,\n",
              " 'assures': 12,\n",
              " 'justice': 111,\n",
              " 'equality': 76,\n",
              " 'liberty': 117,\n",
              " 'endeavour': 72,\n",
              " 'promote': 157,\n",
              " 'fraternity': 84,\n",
              " 'constitution declares': 37,\n",
              " 'declares india': 54,\n",
              " 'india sovereign': 105,\n",
              " 'sovereign socialist': 183,\n",
              " 'socialist secular': 181,\n",
              " 'secular democratic': 175,\n",
              " 'democratic republic': 59,\n",
              " 'republic assures': 168,\n",
              " 'assures citizen': 13,\n",
              " 'citizen justice': 31,\n",
              " 'justice equality': 112,\n",
              " 'equality liberty': 77,\n",
              " 'liberty endeavour': 118,\n",
              " 'endeavour promote': 73,\n",
              " 'promote fraternity': 158,\n",
              " 'original': 129,\n",
              " 'preserved': 149,\n",
              " 'nitrogen': 125,\n",
              " 'filled': 78,\n",
              " 'case': 25,\n",
              " 'house': 94,\n",
              " 'new': 123,\n",
              " 'delhi': 55,\n",
              " 'original constitution': 130,\n",
              " 'constitution preserved': 40,\n",
              " 'preserved nitrogen': 150,\n",
              " 'nitrogen filled': 126,\n",
              " 'filled case': 79,\n",
              " 'case parliament': 26,\n",
              " 'parliament house': 137,\n",
              " 'house new': 95,\n",
              " 'new delhi': 124}"
            ]
          },
          "metadata": {},
          "execution_count": 49
        }
      ]
    },
    {
      "cell_type": "code",
      "source": [],
      "metadata": {
        "id": "tnmhaAQYj8Yq"
      },
      "execution_count": null,
      "outputs": []
    },
    {
      "cell_type": "markdown",
      "source": [
        "**Word2Vec**"
      ],
      "metadata": {
        "id": "698MrmIz0njH"
      }
    },
    {
      "cell_type": "code",
      "source": [
        "import gensim"
      ],
      "metadata": {
        "id": "6LX7TeZWvuwj"
      },
      "execution_count": 50,
      "outputs": []
    },
    {
      "cell_type": "code",
      "source": [
        "from gensim.models import Word2Vec, keyedvectors"
      ],
      "metadata": {
        "id": "i8SF9Y6svyM_"
      },
      "execution_count": 51,
      "outputs": []
    },
    {
      "cell_type": "code",
      "source": [
        "import gensim.downloader as api\n",
        "wv=api.load('word2vec-google-news-300')\n"
      ],
      "metadata": {
        "colab": {
          "base_uri": "https://localhost:8080/"
        },
        "id": "BkaDSsBPwAdp",
        "outputId": "c82b4b33-208b-4c32-b27c-8855fa34cb09"
      },
      "execution_count": 52,
      "outputs": [
        {
          "output_type": "stream",
          "name": "stdout",
          "text": [
            "[==================================================] 100.0% 1662.8/1662.8MB downloaded\n"
          ]
        }
      ]
    },
    {
      "cell_type": "code",
      "source": [
        "wv['king']"
      ],
      "metadata": {
        "colab": {
          "base_uri": "https://localhost:8080/"
        },
        "id": "wBQZT8g0wWRu",
        "outputId": "109b0dd9-5901-4db2-fdb5-9922f808b0ae"
      },
      "execution_count": 53,
      "outputs": [
        {
          "output_type": "execute_result",
          "data": {
            "text/plain": [
              "array([ 1.25976562e-01,  2.97851562e-02,  8.60595703e-03,  1.39648438e-01,\n",
              "       -2.56347656e-02, -3.61328125e-02,  1.11816406e-01, -1.98242188e-01,\n",
              "        5.12695312e-02,  3.63281250e-01, -2.42187500e-01, -3.02734375e-01,\n",
              "       -1.77734375e-01, -2.49023438e-02, -1.67968750e-01, -1.69921875e-01,\n",
              "        3.46679688e-02,  5.21850586e-03,  4.63867188e-02,  1.28906250e-01,\n",
              "        1.36718750e-01,  1.12792969e-01,  5.95703125e-02,  1.36718750e-01,\n",
              "        1.01074219e-01, -1.76757812e-01, -2.51953125e-01,  5.98144531e-02,\n",
              "        3.41796875e-01, -3.11279297e-02,  1.04492188e-01,  6.17675781e-02,\n",
              "        1.24511719e-01,  4.00390625e-01, -3.22265625e-01,  8.39843750e-02,\n",
              "        3.90625000e-02,  5.85937500e-03,  7.03125000e-02,  1.72851562e-01,\n",
              "        1.38671875e-01, -2.31445312e-01,  2.83203125e-01,  1.42578125e-01,\n",
              "        3.41796875e-01, -2.39257812e-02, -1.09863281e-01,  3.32031250e-02,\n",
              "       -5.46875000e-02,  1.53198242e-02, -1.62109375e-01,  1.58203125e-01,\n",
              "       -2.59765625e-01,  2.01416016e-02, -1.63085938e-01,  1.35803223e-03,\n",
              "       -1.44531250e-01, -5.68847656e-02,  4.29687500e-02, -2.46582031e-02,\n",
              "        1.85546875e-01,  4.47265625e-01,  9.58251953e-03,  1.31835938e-01,\n",
              "        9.86328125e-02, -1.85546875e-01, -1.00097656e-01, -1.33789062e-01,\n",
              "       -1.25000000e-01,  2.83203125e-01,  1.23046875e-01,  5.32226562e-02,\n",
              "       -1.77734375e-01,  8.59375000e-02, -2.18505859e-02,  2.05078125e-02,\n",
              "       -1.39648438e-01,  2.51464844e-02,  1.38671875e-01, -1.05468750e-01,\n",
              "        1.38671875e-01,  8.88671875e-02, -7.51953125e-02, -2.13623047e-02,\n",
              "        1.72851562e-01,  4.63867188e-02, -2.65625000e-01,  8.91113281e-03,\n",
              "        1.49414062e-01,  3.78417969e-02,  2.38281250e-01, -1.24511719e-01,\n",
              "       -2.17773438e-01, -1.81640625e-01,  2.97851562e-02,  5.71289062e-02,\n",
              "       -2.89306641e-02,  1.24511719e-02,  9.66796875e-02, -2.31445312e-01,\n",
              "        5.81054688e-02,  6.68945312e-02,  7.08007812e-02, -3.08593750e-01,\n",
              "       -2.14843750e-01,  1.45507812e-01, -4.27734375e-01, -9.39941406e-03,\n",
              "        1.54296875e-01, -7.66601562e-02,  2.89062500e-01,  2.77343750e-01,\n",
              "       -4.86373901e-04, -1.36718750e-01,  3.24218750e-01, -2.46093750e-01,\n",
              "       -3.03649902e-03, -2.11914062e-01,  1.25000000e-01,  2.69531250e-01,\n",
              "        2.04101562e-01,  8.25195312e-02, -2.01171875e-01, -1.60156250e-01,\n",
              "       -3.78417969e-02, -1.20117188e-01,  1.15234375e-01, -4.10156250e-02,\n",
              "       -3.95507812e-02, -8.98437500e-02,  6.34765625e-03,  2.03125000e-01,\n",
              "        1.86523438e-01,  2.73437500e-01,  6.29882812e-02,  1.41601562e-01,\n",
              "       -9.81445312e-02,  1.38671875e-01,  1.82617188e-01,  1.73828125e-01,\n",
              "        1.73828125e-01, -2.37304688e-01,  1.78710938e-01,  6.34765625e-02,\n",
              "        2.36328125e-01, -2.08984375e-01,  8.74023438e-02, -1.66015625e-01,\n",
              "       -7.91015625e-02,  2.43164062e-01, -8.88671875e-02,  1.26953125e-01,\n",
              "       -2.16796875e-01, -1.73828125e-01, -3.59375000e-01, -8.25195312e-02,\n",
              "       -6.49414062e-02,  5.07812500e-02,  1.35742188e-01, -7.47070312e-02,\n",
              "       -1.64062500e-01,  1.15356445e-02,  4.45312500e-01, -2.15820312e-01,\n",
              "       -1.11328125e-01, -1.92382812e-01,  1.70898438e-01, -1.25000000e-01,\n",
              "        2.65502930e-03,  1.92382812e-01, -1.74804688e-01,  1.39648438e-01,\n",
              "        2.92968750e-01,  1.13281250e-01,  5.95703125e-02, -6.39648438e-02,\n",
              "        9.96093750e-02, -2.72216797e-02,  1.96533203e-02,  4.27246094e-02,\n",
              "       -2.46093750e-01,  6.39648438e-02, -2.25585938e-01, -1.68945312e-01,\n",
              "        2.89916992e-03,  8.20312500e-02,  3.41796875e-01,  4.32128906e-02,\n",
              "        1.32812500e-01,  1.42578125e-01,  7.61718750e-02,  5.98144531e-02,\n",
              "       -1.19140625e-01,  2.74658203e-03, -6.29882812e-02, -2.72216797e-02,\n",
              "       -4.82177734e-03, -8.20312500e-02, -2.49023438e-02, -4.00390625e-01,\n",
              "       -1.06933594e-01,  4.24804688e-02,  7.76367188e-02, -1.16699219e-01,\n",
              "        7.37304688e-02, -9.22851562e-02,  1.07910156e-01,  1.58203125e-01,\n",
              "        4.24804688e-02,  1.26953125e-01,  3.61328125e-02,  2.67578125e-01,\n",
              "       -1.01074219e-01, -3.02734375e-01, -5.76171875e-02,  5.05371094e-02,\n",
              "        5.26428223e-04, -2.07031250e-01, -1.38671875e-01, -8.97216797e-03,\n",
              "       -2.78320312e-02, -1.41601562e-01,  2.07031250e-01, -1.58203125e-01,\n",
              "        1.27929688e-01,  1.49414062e-01, -2.24609375e-02, -8.44726562e-02,\n",
              "        1.22558594e-01,  2.15820312e-01, -2.13867188e-01, -3.12500000e-01,\n",
              "       -3.73046875e-01,  4.08935547e-03,  1.07421875e-01,  1.06933594e-01,\n",
              "        7.32421875e-02,  8.97216797e-03, -3.88183594e-02, -1.29882812e-01,\n",
              "        1.49414062e-01, -2.14843750e-01, -1.83868408e-03,  9.91210938e-02,\n",
              "        1.57226562e-01, -1.14257812e-01, -2.05078125e-01,  9.91210938e-02,\n",
              "        3.69140625e-01, -1.97265625e-01,  3.54003906e-02,  1.09375000e-01,\n",
              "        1.31835938e-01,  1.66992188e-01,  2.35351562e-01,  1.04980469e-01,\n",
              "       -4.96093750e-01, -1.64062500e-01, -1.56250000e-01, -5.22460938e-02,\n",
              "        1.03027344e-01,  2.43164062e-01, -1.88476562e-01,  5.07812500e-02,\n",
              "       -9.37500000e-02, -6.68945312e-02,  2.27050781e-02,  7.61718750e-02,\n",
              "        2.89062500e-01,  3.10546875e-01, -5.37109375e-02,  2.28515625e-01,\n",
              "        2.51464844e-02,  6.78710938e-02, -1.21093750e-01, -2.15820312e-01,\n",
              "       -2.73437500e-01, -3.07617188e-02, -3.37890625e-01,  1.53320312e-01,\n",
              "        2.33398438e-01, -2.08007812e-01,  3.73046875e-01,  8.20312500e-02,\n",
              "        2.51953125e-01, -7.61718750e-02, -4.66308594e-02, -2.23388672e-02,\n",
              "        2.99072266e-02, -5.93261719e-02, -4.66918945e-03, -2.44140625e-01,\n",
              "       -2.09960938e-01, -2.87109375e-01, -4.54101562e-02, -1.77734375e-01,\n",
              "       -2.79296875e-01, -8.59375000e-02,  9.13085938e-02,  2.51953125e-01],\n",
              "      dtype=float32)"
            ]
          },
          "metadata": {},
          "execution_count": 53
        }
      ]
    },
    {
      "cell_type": "code",
      "source": [
        "wv.similarity('java','programmer')"
      ],
      "metadata": {
        "colab": {
          "base_uri": "https://localhost:8080/"
        },
        "id": "c2lm_uJUyiHo",
        "outputId": "0cd52dcb-350c-45e4-e153-3203df0d6e62"
      },
      "execution_count": 57,
      "outputs": [
        {
          "output_type": "execute_result",
          "data": {
            "text/plain": [
              "0.23142153"
            ]
          },
          "metadata": {},
          "execution_count": 57
        }
      ]
    },
    {
      "cell_type": "code",
      "source": [
        "wv.similarity('king','man')"
      ],
      "metadata": {
        "colab": {
          "base_uri": "https://localhost:8080/"
        },
        "id": "VSu-QM1nypxJ",
        "outputId": "88190d53-35d7-48f9-8aa4-1e25abca5183"
      },
      "execution_count": 59,
      "outputs": [
        {
          "output_type": "execute_result",
          "data": {
            "text/plain": [
              "0.22942673"
            ]
          },
          "metadata": {},
          "execution_count": 59
        }
      ]
    },
    {
      "cell_type": "code",
      "source": [
        "wv.most_similar('man')"
      ],
      "metadata": {
        "colab": {
          "base_uri": "https://localhost:8080/"
        },
        "id": "OYerDcESzCxL",
        "outputId": "778c5195-90c9-41e4-d5d6-509bbb9191b3"
      },
      "execution_count": 58,
      "outputs": [
        {
          "output_type": "execute_result",
          "data": {
            "text/plain": [
              "[('woman', 0.7664012908935547),\n",
              " ('boy', 0.6824871301651001),\n",
              " ('teenager', 0.6586930155754089),\n",
              " ('teenage_girl', 0.6147903203964233),\n",
              " ('girl', 0.5921714305877686),\n",
              " ('suspected_purse_snatcher', 0.571636438369751),\n",
              " ('robber', 0.5585119128227234),\n",
              " ('Robbery_suspect', 0.5584409832954407),\n",
              " ('teen_ager', 0.5549196600914001),\n",
              " ('men', 0.5489763021469116)]"
            ]
          },
          "metadata": {},
          "execution_count": 58
        }
      ]
    },
    {
      "cell_type": "code",
      "source": [
        "vec=wv['king']-wv['man']+wv['women']\n"
      ],
      "metadata": {
        "id": "Huro7I6IzS_G"
      },
      "execution_count": 60,
      "outputs": []
    },
    {
      "cell_type": "code",
      "source": [
        "vec"
      ],
      "metadata": {
        "colab": {
          "base_uri": "https://localhost:8080/"
        },
        "id": "EYJhUkcqzoDi",
        "outputId": "7aa5dba8-aec4-46fb-9ed3-5a859062b65e"
      },
      "execution_count": 62,
      "outputs": [
        {
          "output_type": "execute_result",
          "data": {
            "text/plain": [
              "array([-0.33984375,  0.06298828, -0.00994873,  0.3305664 ,  0.10327148,\n",
              "       -0.25854492,  0.19677734, -0.32476807, -0.15917969,  0.45752716,\n",
              "       -0.39208984, -0.22460938,  0.02929688,  0.31982422, -0.0958252 ,\n",
              "       -0.05932617,  0.01855469, -0.03945923,  0.01101685,  0.33984375,\n",
              "        0.10351562,  0.14396667, -0.07641602,  0.06640625, -0.10839844,\n",
              "       -0.1953125 , -0.3564453 , -0.02124023, -0.16503906, -0.16247559,\n",
              "       -0.05519104, -0.1003418 ,  0.01464844,  0.23449707, -0.26611328,\n",
              "       -0.07080078, -0.26904297, -0.00292969, -0.06738281, -0.02050781,\n",
              "        0.04418945, -0.09326172,  0.12304688,  0.10626221,  0.10290527,\n",
              "        0.01660156, -0.10791016, -0.0065918 ,  0.17578125,  0.10028076,\n",
              "        0.22363281, -0.05761719, -0.31743622,  0.3922119 , -0.35498047,\n",
              "       -0.23643494, -0.01074219, -0.01334572, -0.15283203, -0.00793457,\n",
              "        0.08203125,  0.09985352,  0.003479  ,  0.11608887,  0.14550781,\n",
              "       -0.125     , -0.11254883,  0.2548828 , -0.04345703,  0.34985352,\n",
              "       -0.02880859,  0.15966797,  0.07226562,  0.17626953,  0.15979004,\n",
              "       -0.20263672, -0.23864746,  0.3400879 ,  0.17700195,  0.15454102,\n",
              "       -0.20385742,  0.05224609, -0.05224609,  0.3067627 , -0.14892578,\n",
              "       -0.07910156, -0.10107422,  0.06176758,  0.08154297,  0.17700195,\n",
              "        0.04589844, -0.41674805, -0.32019043, -0.16674805,  0.11083984,\n",
              "       -0.02352905,  0.35290527, -0.30004883,  0.25634766, -0.16748047,\n",
              "        0.21386719,  0.12304688, -0.27490234, -0.35009766, -0.4580078 ,\n",
              "        0.38671875, -0.6265869 , -0.13139915,  0.34692383,  0.11553955,\n",
              "        0.42016602,  0.32763672, -0.03381157,  0.08630371,  0.2419281 ,\n",
              "       -0.35412598,  0.19325256, -0.36791992,  0.17056274,  0.1459961 ,\n",
              "       -0.18945312,  0.28393555,  0.01953125, -0.18115234,  0.08374023,\n",
              "       -0.01483154,  0.06591797,  0.21643066, -0.01757812,  0.18481445,\n",
              "        0.01757812,  0.07226562,  0.01220703,  0.4343872 ,  0.2734375 ,\n",
              "        0.20452881,  0.01586914,  0.01391602,  0.33740234, -0.30273438,\n",
              "       -0.00439453, -0.5595703 ,  0.38867188, -0.1373291 ,  0.13574219,\n",
              "       -0.20605469,  0.10742188,  0.02148438, -0.14648438,  0.2142334 ,\n",
              "       -0.06054688,  0.23291016, -0.16430664, -0.4741211 , -0.13745117,\n",
              "       -0.12353516, -0.26293945,  0.03125   ,  0.15332031, -0.08251953,\n",
              "       -0.11865234, -0.10687256,  0.2421875 , -0.11425781, -0.05310059,\n",
              "       -0.30371094, -0.06225586,  0.05029297, -0.07272339,  0.11499023,\n",
              "       -0.2980957 ,  0.09692383,  0.41088867,  0.16601562,  0.3486328 ,\n",
              "       -0.17211914,  0.33325195, -0.19030762,  0.14611816,  0.14916992,\n",
              "       -0.33129883, -0.11791992, -0.39538574, -0.13183594, -0.07034302,\n",
              "        0.03204346,  0.38623047, -0.07495117,  0.15112305,  0.38134766,\n",
              "        0.2423706 , -0.11083984, -0.109375  , -0.08319092, -0.1003418 ,\n",
              "        0.08483887,  0.34039307,  0.11035156,  0.01074219, -0.3815918 ,\n",
              "       -0.1743164 ,  0.14331055,  0.2562256 , -0.2944336 ,  0.00488281,\n",
              "       -0.04443359, -0.06347656,  0.03100586, -0.12084961,  0.41137695,\n",
              "        0.078125  ,  0.34484863, -0.05615234, -0.2998047 ,  0.06054688,\n",
              "        0.17797852, -0.01876068, -0.16064453,  0.09765625, -0.05682373,\n",
              "       -0.2878418 , -0.05664062,  0.19726562, -0.22753906,  0.00268555,\n",
              "       -0.17297363, -0.19726562, -0.15332031,  0.1899414 ,  0.32299805,\n",
              "       -0.18261719, -0.06103516, -0.47460938,  0.1251831 ,  0.08056641,\n",
              "       -0.05444336,  0.17797852,  0.00754547, -0.00805664, -0.18371582,\n",
              "        0.23339844, -0.39074707,  0.18608856,  0.12158203,  0.2767334 ,\n",
              "       -0.06054688, -0.28857422,  0.3359375 , -0.02954102, -0.12329102,\n",
              "        0.09594727,  0.1965332 ,  0.15771484, -0.015625  ,  0.20019531,\n",
              "       -0.07763672, -0.30419922, -0.21777344,  0.06689453,  0.11193848,\n",
              "       -0.03125   ,  0.17773438, -0.05078125,  0.15014648, -0.19580078,\n",
              "       -0.2319336 , -0.04980469,  0.16308594,  0.4963379 ,  0.64746094,\n",
              "        0.03808594,  0.5743408 , -0.1274414 ,  0.16711426,  0.12188721,\n",
              "       -0.43432617, -0.3585205 , -0.12646484, -0.04003906,  0.39794922,\n",
              "        0.25683594, -0.45654297,  0.3178711 , -0.24658203,  0.16040039,\n",
              "       -0.11010742, -0.14331055, -0.0291748 ,  0.02893066, -0.03295898,\n",
              "       -0.05691528, -0.11279297, -0.18359375, -0.4482422 , -0.00830078,\n",
              "       -0.12371826, -0.02783203,  0.26367188,  0.27148438,  0.28808594],\n",
              "      dtype=float32)"
            ]
          },
          "metadata": {},
          "execution_count": 62
        }
      ]
    },
    {
      "cell_type": "code",
      "source": [
        "wv.most_similar([vec])"
      ],
      "metadata": {
        "colab": {
          "base_uri": "https://localhost:8080/"
        },
        "id": "in6DqWxIzo6p",
        "outputId": "aec17378-1095-4fc0-b7e4-aa57543d35ad"
      },
      "execution_count": 63,
      "outputs": [
        {
          "output_type": "execute_result",
          "data": {
            "text/plain": [
              "[('king', 0.6478992700576782),\n",
              " ('queen', 0.535493791103363),\n",
              " ('women', 0.5233659148216248),\n",
              " ('kings', 0.5162314772605896),\n",
              " ('queens', 0.4995364248752594),\n",
              " ('kumaris', 0.49238473176956177),\n",
              " ('princes', 0.46233269572257996),\n",
              " ('monarch', 0.45280295610427856),\n",
              " ('monarchy', 0.4293173849582672),\n",
              " ('kings_princes', 0.42342400550842285)]"
            ]
          },
          "metadata": {},
          "execution_count": 63
        }
      ]
    },
    {
      "cell_type": "code",
      "source": [],
      "metadata": {
        "id": "4W8Mtq2X0OzL"
      },
      "execution_count": null,
      "outputs": []
    },
    {
      "cell_type": "markdown",
      "source": [
        "**avg-word2vec**"
      ],
      "metadata": {
        "id": "9DXi_ElF6Z60"
      }
    },
    {
      "cell_type": "code",
      "source": [],
      "metadata": {
        "id": "iHCR8tk26hAU"
      },
      "execution_count": null,
      "outputs": []
    }
  ]
}